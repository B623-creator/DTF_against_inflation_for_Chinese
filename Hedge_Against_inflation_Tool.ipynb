{
 "cells": [
  {
   "cell_type": "code",
   "execution_count": 1,
   "id": "e632c4a770cf1b29",
   "metadata": {
    "collapsed": false,
    "jupyter": {
     "outputs_hidden": false
    }
   },
   "outputs": [],
   "source": [
    "from bokeh.plotting import figure,show\n",
    "from bokeh.io import output_notebook\n",
    "from bokeh.models import ColumnDataSource, HoverTool, FactorRange, NumeralTickFormatter, Select, Div, LegendItem, DatetimeTickFormatter\n",
    "from bokeh.layouts import column, row\n",
    "from bokeh.models.annotations import Label\n",
    "from bokeh.palettes import d3, Turbo256, tol\n",
    "\n",
    "import pandas as pd\n",
    "import numpy as np"
   ]
  },
  {
   "cell_type": "code",
   "execution_count": 2,
   "id": "4ce424fc148218e4",
   "metadata": {
    "collapsed": false,
    "jupyter": {
     "outputs_hidden": false
    }
   },
   "outputs": [
    {
     "data": {
      "text/html": [
       "<style>\n",
       "        .bk-notebook-logo {\n",
       "            display: block;\n",
       "            width: 20px;\n",
       "            height: 20px;\n",
       "            background-image: url(data:image/png;base64,iVBORw0KGgoAAAANSUhEUgAAABQAAAAUCAYAAACNiR0NAAAABHNCSVQICAgIfAhkiAAAAAlwSFlzAAALEgAACxIB0t1+/AAAABx0RVh0U29mdHdhcmUAQWRvYmUgRmlyZXdvcmtzIENTNui8sowAAAOkSURBVDiNjZRtaJVlGMd/1/08zzln5zjP1LWcU9N0NkN8m2CYjpgQYQXqSs0I84OLIC0hkEKoPtiH3gmKoiJDU7QpLgoLjLIQCpEsNJ1vqUOdO7ppbuec5+V+rj4ctwzd8IIbbi6u+8f1539dt3A78eXC7QizUF7gyV1fD1Yqg4JWz84yffhm0qkFqBogB9rM8tZdtwVsPUhWhGcFJngGeWrPzHm5oaMmkfEg1usvLFyc8jLRqDOMru7AyC8saQr7GG7f5fvDeH7Ej8CM66nIF+8yngt6HWaKh7k49Soy9nXurCi1o3qUbS3zWfrYeQDTB/Qj6kX6Ybhw4B+bOYoLKCC9H3Nu/leUTZ1JdRWkkn2ldcCamzrcf47KKXdAJllSlxAOkRgyHsGC/zRday5Qld9DyoM4/q/rUoy/CXh3jzOu3bHUVZeU+DEn8FInkPBFlu3+nW3Nw0mk6vCDiWg8CeJaxEwuHS3+z5RgY+YBR6V1Z1nxSOfoaPa4LASWxxdNp+VWTk7+4vzaou8v8PN+xo+KY2xsw6une2frhw05CTYOmQvsEhjhWjn0bmXPjpE1+kplmmkP3suftwTubK9Vq22qKmrBhpY4jvd5afdRA3wGjFAgcnTK2s4hY0/GPNIb0nErGMCRxWOOX64Z8RAC4oCXdklmEvcL8o0BfkNK4lUg9HTl+oPlQxdNo3Mg4Nv175e/1LDGzZen30MEjRUtmXSfiTVu1kK8W4txyV6BMKlbgk3lMwYCiusNy9fVfvvwMxv8Ynl6vxoByANLTWplvuj/nF9m2+PDtt1eiHPBr1oIfhCChQMBw6Aw0UulqTKZdfVvfG7VcfIqLG9bcldL/+pdWTLxLUy8Qq38heUIjh4XlzZxzQm19lLFlr8vdQ97rjZVOLf8nclzckbcD4wxXMidpX30sFd37Fv/GtwwhzhxGVAprjbg0gCAEeIgwCZyTV2Z1REEW8O4py0wsjeloKoMr6iCY6dP92H6Vw/oTyICIthibxjm/DfN9lVz8IqtqKYLUXfoKVMVQVVJOElGjrnnUt9T9wbgp8AyYKaGlqingHZU/uG2NTZSVqwHQTWkx9hxjkpWDaCg6Ckj5qebgBVbT3V3NNXMSiWSDdGV3hrtzla7J+duwPOToIg42ChPQOQjspnSlp1V+Gjdged7+8UN5CRAV7a5EdFNwCjEaBR27b3W890TE7g24NAP/mMDXRWrGoFPQI9ls/MWO2dWFAar/xcOIImbbpA3zgAAAABJRU5ErkJggg==);\n",
       "        }\n",
       "    </style>\n",
       "    <div>\n",
       "        <a href=\"https://bokeh.org\" target=\"_blank\" class=\"bk-notebook-logo\"></a>\n",
       "        <span id=\"p1001\">Loading BokehJS ...</span>\n",
       "    </div>\n"
      ]
     },
     "metadata": {},
     "output_type": "display_data"
    },
    {
     "data": {
      "application/javascript": [
       "(function(root) {\n",
       "  function now() {\n",
       "    return new Date();\n",
       "  }\n",
       "\n",
       "  const force = true;\n",
       "\n",
       "  if (typeof root._bokeh_onload_callbacks === \"undefined\" || force === true) {\n",
       "    root._bokeh_onload_callbacks = [];\n",
       "    root._bokeh_is_loading = undefined;\n",
       "  }\n",
       "\n",
       "const JS_MIME_TYPE = 'application/javascript';\n",
       "  const HTML_MIME_TYPE = 'text/html';\n",
       "  const EXEC_MIME_TYPE = 'application/vnd.bokehjs_exec.v0+json';\n",
       "  const CLASS_NAME = 'output_bokeh rendered_html';\n",
       "\n",
       "  /**\n",
       "   * Render data to the DOM node\n",
       "   */\n",
       "  function render(props, node) {\n",
       "    const script = document.createElement(\"script\");\n",
       "    node.appendChild(script);\n",
       "  }\n",
       "\n",
       "  /**\n",
       "   * Handle when an output is cleared or removed\n",
       "   */\n",
       "  function handleClearOutput(event, handle) {\n",
       "    const cell = handle.cell;\n",
       "\n",
       "    const id = cell.output_area._bokeh_element_id;\n",
       "    const server_id = cell.output_area._bokeh_server_id;\n",
       "    // Clean up Bokeh references\n",
       "    if (id != null && id in Bokeh.index) {\n",
       "      Bokeh.index[id].model.document.clear();\n",
       "      delete Bokeh.index[id];\n",
       "    }\n",
       "\n",
       "    if (server_id !== undefined) {\n",
       "      // Clean up Bokeh references\n",
       "      const cmd_clean = \"from bokeh.io.state import curstate; print(curstate().uuid_to_server['\" + server_id + \"'].get_sessions()[0].document.roots[0]._id)\";\n",
       "      cell.notebook.kernel.execute(cmd_clean, {\n",
       "        iopub: {\n",
       "          output: function(msg) {\n",
       "            const id = msg.content.text.trim();\n",
       "            if (id in Bokeh.index) {\n",
       "              Bokeh.index[id].model.document.clear();\n",
       "              delete Bokeh.index[id];\n",
       "            }\n",
       "          }\n",
       "        }\n",
       "      });\n",
       "      // Destroy server and session\n",
       "      const cmd_destroy = \"import bokeh.io.notebook as ion; ion.destroy_server('\" + server_id + \"')\";\n",
       "      cell.notebook.kernel.execute(cmd_destroy);\n",
       "    }\n",
       "  }\n",
       "\n",
       "  /**\n",
       "   * Handle when a new output is added\n",
       "   */\n",
       "  function handleAddOutput(event, handle) {\n",
       "    const output_area = handle.output_area;\n",
       "    const output = handle.output;\n",
       "\n",
       "    // limit handleAddOutput to display_data with EXEC_MIME_TYPE content only\n",
       "    if ((output.output_type != \"display_data\") || (!Object.prototype.hasOwnProperty.call(output.data, EXEC_MIME_TYPE))) {\n",
       "      return\n",
       "    }\n",
       "\n",
       "    const toinsert = output_area.element.find(\".\" + CLASS_NAME.split(' ')[0]);\n",
       "\n",
       "    if (output.metadata[EXEC_MIME_TYPE][\"id\"] !== undefined) {\n",
       "      toinsert[toinsert.length - 1].firstChild.textContent = output.data[JS_MIME_TYPE];\n",
       "      // store reference to embed id on output_area\n",
       "      output_area._bokeh_element_id = output.metadata[EXEC_MIME_TYPE][\"id\"];\n",
       "    }\n",
       "    if (output.metadata[EXEC_MIME_TYPE][\"server_id\"] !== undefined) {\n",
       "      const bk_div = document.createElement(\"div\");\n",
       "      bk_div.innerHTML = output.data[HTML_MIME_TYPE];\n",
       "      const script_attrs = bk_div.children[0].attributes;\n",
       "      for (let i = 0; i < script_attrs.length; i++) {\n",
       "        toinsert[toinsert.length - 1].firstChild.setAttribute(script_attrs[i].name, script_attrs[i].value);\n",
       "        toinsert[toinsert.length - 1].firstChild.textContent = bk_div.children[0].textContent\n",
       "      }\n",
       "      // store reference to server id on output_area\n",
       "      output_area._bokeh_server_id = output.metadata[EXEC_MIME_TYPE][\"server_id\"];\n",
       "    }\n",
       "  }\n",
       "\n",
       "  function register_renderer(events, OutputArea) {\n",
       "\n",
       "    function append_mime(data, metadata, element) {\n",
       "      // create a DOM node to render to\n",
       "      const toinsert = this.create_output_subarea(\n",
       "        metadata,\n",
       "        CLASS_NAME,\n",
       "        EXEC_MIME_TYPE\n",
       "      );\n",
       "      this.keyboard_manager.register_events(toinsert);\n",
       "      // Render to node\n",
       "      const props = {data: data, metadata: metadata[EXEC_MIME_TYPE]};\n",
       "      render(props, toinsert[toinsert.length - 1]);\n",
       "      element.append(toinsert);\n",
       "      return toinsert\n",
       "    }\n",
       "\n",
       "    /* Handle when an output is cleared or removed */\n",
       "    events.on('clear_output.CodeCell', handleClearOutput);\n",
       "    events.on('delete.Cell', handleClearOutput);\n",
       "\n",
       "    /* Handle when a new output is added */\n",
       "    events.on('output_added.OutputArea', handleAddOutput);\n",
       "\n",
       "    /**\n",
       "     * Register the mime type and append_mime function with output_area\n",
       "     */\n",
       "    OutputArea.prototype.register_mime_type(EXEC_MIME_TYPE, append_mime, {\n",
       "      /* Is output safe? */\n",
       "      safe: true,\n",
       "      /* Index of renderer in `output_area.display_order` */\n",
       "      index: 0\n",
       "    });\n",
       "  }\n",
       "\n",
       "  // register the mime type if in Jupyter Notebook environment and previously unregistered\n",
       "  if (root.Jupyter !== undefined) {\n",
       "    const events = require('base/js/events');\n",
       "    const OutputArea = require('notebook/js/outputarea').OutputArea;\n",
       "\n",
       "    if (OutputArea.prototype.mime_types().indexOf(EXEC_MIME_TYPE) == -1) {\n",
       "      register_renderer(events, OutputArea);\n",
       "    }\n",
       "  }\n",
       "  if (typeof (root._bokeh_timeout) === \"undefined\" || force === true) {\n",
       "    root._bokeh_timeout = Date.now() + 5000;\n",
       "    root._bokeh_failed_load = false;\n",
       "  }\n",
       "\n",
       "  const NB_LOAD_WARNING = {'data': {'text/html':\n",
       "     \"<div style='background-color: #fdd'>\\n\"+\n",
       "     \"<p>\\n\"+\n",
       "     \"BokehJS does not appear to have successfully loaded. If loading BokehJS from CDN, this \\n\"+\n",
       "     \"may be due to a slow or bad network connection. Possible fixes:\\n\"+\n",
       "     \"</p>\\n\"+\n",
       "     \"<ul>\\n\"+\n",
       "     \"<li>re-rerun `output_notebook()` to attempt to load from CDN again, or</li>\\n\"+\n",
       "     \"<li>use INLINE resources instead, as so:</li>\\n\"+\n",
       "     \"</ul>\\n\"+\n",
       "     \"<code>\\n\"+\n",
       "     \"from bokeh.resources import INLINE\\n\"+\n",
       "     \"output_notebook(resources=INLINE)\\n\"+\n",
       "     \"</code>\\n\"+\n",
       "     \"</div>\"}};\n",
       "\n",
       "  function display_loaded() {\n",
       "    const el = document.getElementById(\"p1001\");\n",
       "    if (el != null) {\n",
       "      el.textContent = \"BokehJS is loading...\";\n",
       "    }\n",
       "    if (root.Bokeh !== undefined) {\n",
       "      if (el != null) {\n",
       "        el.textContent = \"BokehJS \" + root.Bokeh.version + \" successfully loaded.\";\n",
       "      }\n",
       "    } else if (Date.now() < root._bokeh_timeout) {\n",
       "      setTimeout(display_loaded, 100)\n",
       "    }\n",
       "  }\n",
       "\n",
       "  function run_callbacks() {\n",
       "    try {\n",
       "      root._bokeh_onload_callbacks.forEach(function(callback) {\n",
       "        if (callback != null)\n",
       "          callback();\n",
       "      });\n",
       "    } finally {\n",
       "      delete root._bokeh_onload_callbacks\n",
       "    }\n",
       "    console.debug(\"Bokeh: all callbacks have finished\");\n",
       "  }\n",
       "\n",
       "  function load_libs(css_urls, js_urls, callback) {\n",
       "    if (css_urls == null) css_urls = [];\n",
       "    if (js_urls == null) js_urls = [];\n",
       "\n",
       "    root._bokeh_onload_callbacks.push(callback);\n",
       "    if (root._bokeh_is_loading > 0) {\n",
       "      console.debug(\"Bokeh: BokehJS is being loaded, scheduling callback at\", now());\n",
       "      return null;\n",
       "    }\n",
       "    if (js_urls == null || js_urls.length === 0) {\n",
       "      run_callbacks();\n",
       "      return null;\n",
       "    }\n",
       "    console.debug(\"Bokeh: BokehJS not loaded, scheduling load and callback at\", now());\n",
       "    root._bokeh_is_loading = css_urls.length + js_urls.length;\n",
       "\n",
       "    function on_load() {\n",
       "      root._bokeh_is_loading--;\n",
       "      if (root._bokeh_is_loading === 0) {\n",
       "        console.debug(\"Bokeh: all BokehJS libraries/stylesheets loaded\");\n",
       "        run_callbacks()\n",
       "      }\n",
       "    }\n",
       "\n",
       "    function on_error(url) {\n",
       "      console.error(\"failed to load \" + url);\n",
       "    }\n",
       "\n",
       "    for (let i = 0; i < css_urls.length; i++) {\n",
       "      const url = css_urls[i];\n",
       "      const element = document.createElement(\"link\");\n",
       "      element.onload = on_load;\n",
       "      element.onerror = on_error.bind(null, url);\n",
       "      element.rel = \"stylesheet\";\n",
       "      element.type = \"text/css\";\n",
       "      element.href = url;\n",
       "      console.debug(\"Bokeh: injecting link tag for BokehJS stylesheet: \", url);\n",
       "      document.body.appendChild(element);\n",
       "    }\n",
       "\n",
       "    for (let i = 0; i < js_urls.length; i++) {\n",
       "      const url = js_urls[i];\n",
       "      const element = document.createElement('script');\n",
       "      element.onload = on_load;\n",
       "      element.onerror = on_error.bind(null, url);\n",
       "      element.async = false;\n",
       "      element.src = url;\n",
       "      console.debug(\"Bokeh: injecting script tag for BokehJS library: \", url);\n",
       "      document.head.appendChild(element);\n",
       "    }\n",
       "  };\n",
       "\n",
       "  function inject_raw_css(css) {\n",
       "    const element = document.createElement(\"style\");\n",
       "    element.appendChild(document.createTextNode(css));\n",
       "    document.body.appendChild(element);\n",
       "  }\n",
       "\n",
       "  const js_urls = [\"https://cdn.bokeh.org/bokeh/release/bokeh-3.1.0.min.js\", \"https://cdn.bokeh.org/bokeh/release/bokeh-gl-3.1.0.min.js\", \"https://cdn.bokeh.org/bokeh/release/bokeh-widgets-3.1.0.min.js\", \"https://cdn.bokeh.org/bokeh/release/bokeh-tables-3.1.0.min.js\", \"https://cdn.bokeh.org/bokeh/release/bokeh-mathjax-3.1.0.min.js\"];\n",
       "  const css_urls = [];\n",
       "\n",
       "  const inline_js = [    function(Bokeh) {\n",
       "      Bokeh.set_log_level(\"info\");\n",
       "    },\n",
       "function(Bokeh) {\n",
       "    }\n",
       "  ];\n",
       "\n",
       "  function run_inline_js() {\n",
       "    if (root.Bokeh !== undefined || force === true) {\n",
       "          for (let i = 0; i < inline_js.length; i++) {\n",
       "      inline_js[i].call(root, root.Bokeh);\n",
       "    }\n",
       "if (force === true) {\n",
       "        display_loaded();\n",
       "      }} else if (Date.now() < root._bokeh_timeout) {\n",
       "      setTimeout(run_inline_js, 100);\n",
       "    } else if (!root._bokeh_failed_load) {\n",
       "      console.log(\"Bokeh: BokehJS failed to load within specified timeout.\");\n",
       "      root._bokeh_failed_load = true;\n",
       "    } else if (force !== true) {\n",
       "      const cell = $(document.getElementById(\"p1001\")).parents('.cell').data().cell;\n",
       "      cell.output_area.append_execute_result(NB_LOAD_WARNING)\n",
       "    }\n",
       "  }\n",
       "\n",
       "  if (root._bokeh_is_loading === 0) {\n",
       "    console.debug(\"Bokeh: BokehJS loaded, going straight to plotting\");\n",
       "    run_inline_js();\n",
       "  } else {\n",
       "    load_libs(css_urls, js_urls, function() {\n",
       "      console.debug(\"Bokeh: BokehJS plotting callback run at\", now());\n",
       "      run_inline_js();\n",
       "    });\n",
       "  }\n",
       "}(window));"
      ],
      "application/vnd.bokehjs_load.v0+json": "(function(root) {\n  function now() {\n    return new Date();\n  }\n\n  const force = true;\n\n  if (typeof root._bokeh_onload_callbacks === \"undefined\" || force === true) {\n    root._bokeh_onload_callbacks = [];\n    root._bokeh_is_loading = undefined;\n  }\n\n\n  if (typeof (root._bokeh_timeout) === \"undefined\" || force === true) {\n    root._bokeh_timeout = Date.now() + 5000;\n    root._bokeh_failed_load = false;\n  }\n\n  const NB_LOAD_WARNING = {'data': {'text/html':\n     \"<div style='background-color: #fdd'>\\n\"+\n     \"<p>\\n\"+\n     \"BokehJS does not appear to have successfully loaded. If loading BokehJS from CDN, this \\n\"+\n     \"may be due to a slow or bad network connection. Possible fixes:\\n\"+\n     \"</p>\\n\"+\n     \"<ul>\\n\"+\n     \"<li>re-rerun `output_notebook()` to attempt to load from CDN again, or</li>\\n\"+\n     \"<li>use INLINE resources instead, as so:</li>\\n\"+\n     \"</ul>\\n\"+\n     \"<code>\\n\"+\n     \"from bokeh.resources import INLINE\\n\"+\n     \"output_notebook(resources=INLINE)\\n\"+\n     \"</code>\\n\"+\n     \"</div>\"}};\n\n  function display_loaded() {\n    const el = document.getElementById(\"p1001\");\n    if (el != null) {\n      el.textContent = \"BokehJS is loading...\";\n    }\n    if (root.Bokeh !== undefined) {\n      if (el != null) {\n        el.textContent = \"BokehJS \" + root.Bokeh.version + \" successfully loaded.\";\n      }\n    } else if (Date.now() < root._bokeh_timeout) {\n      setTimeout(display_loaded, 100)\n    }\n  }\n\n  function run_callbacks() {\n    try {\n      root._bokeh_onload_callbacks.forEach(function(callback) {\n        if (callback != null)\n          callback();\n      });\n    } finally {\n      delete root._bokeh_onload_callbacks\n    }\n    console.debug(\"Bokeh: all callbacks have finished\");\n  }\n\n  function load_libs(css_urls, js_urls, callback) {\n    if (css_urls == null) css_urls = [];\n    if (js_urls == null) js_urls = [];\n\n    root._bokeh_onload_callbacks.push(callback);\n    if (root._bokeh_is_loading > 0) {\n      console.debug(\"Bokeh: BokehJS is being loaded, scheduling callback at\", now());\n      return null;\n    }\n    if (js_urls == null || js_urls.length === 0) {\n      run_callbacks();\n      return null;\n    }\n    console.debug(\"Bokeh: BokehJS not loaded, scheduling load and callback at\", now());\n    root._bokeh_is_loading = css_urls.length + js_urls.length;\n\n    function on_load() {\n      root._bokeh_is_loading--;\n      if (root._bokeh_is_loading === 0) {\n        console.debug(\"Bokeh: all BokehJS libraries/stylesheets loaded\");\n        run_callbacks()\n      }\n    }\n\n    function on_error(url) {\n      console.error(\"failed to load \" + url);\n    }\n\n    for (let i = 0; i < css_urls.length; i++) {\n      const url = css_urls[i];\n      const element = document.createElement(\"link\");\n      element.onload = on_load;\n      element.onerror = on_error.bind(null, url);\n      element.rel = \"stylesheet\";\n      element.type = \"text/css\";\n      element.href = url;\n      console.debug(\"Bokeh: injecting link tag for BokehJS stylesheet: \", url);\n      document.body.appendChild(element);\n    }\n\n    for (let i = 0; i < js_urls.length; i++) {\n      const url = js_urls[i];\n      const element = document.createElement('script');\n      element.onload = on_load;\n      element.onerror = on_error.bind(null, url);\n      element.async = false;\n      element.src = url;\n      console.debug(\"Bokeh: injecting script tag for BokehJS library: \", url);\n      document.head.appendChild(element);\n    }\n  };\n\n  function inject_raw_css(css) {\n    const element = document.createElement(\"style\");\n    element.appendChild(document.createTextNode(css));\n    document.body.appendChild(element);\n  }\n\n  const js_urls = [\"https://cdn.bokeh.org/bokeh/release/bokeh-3.1.0.min.js\", \"https://cdn.bokeh.org/bokeh/release/bokeh-gl-3.1.0.min.js\", \"https://cdn.bokeh.org/bokeh/release/bokeh-widgets-3.1.0.min.js\", \"https://cdn.bokeh.org/bokeh/release/bokeh-tables-3.1.0.min.js\", \"https://cdn.bokeh.org/bokeh/release/bokeh-mathjax-3.1.0.min.js\"];\n  const css_urls = [];\n\n  const inline_js = [    function(Bokeh) {\n      Bokeh.set_log_level(\"info\");\n    },\nfunction(Bokeh) {\n    }\n  ];\n\n  function run_inline_js() {\n    if (root.Bokeh !== undefined || force === true) {\n          for (let i = 0; i < inline_js.length; i++) {\n      inline_js[i].call(root, root.Bokeh);\n    }\nif (force === true) {\n        display_loaded();\n      }} else if (Date.now() < root._bokeh_timeout) {\n      setTimeout(run_inline_js, 100);\n    } else if (!root._bokeh_failed_load) {\n      console.log(\"Bokeh: BokehJS failed to load within specified timeout.\");\n      root._bokeh_failed_load = true;\n    } else if (force !== true) {\n      const cell = $(document.getElementById(\"p1001\")).parents('.cell').data().cell;\n      cell.output_area.append_execute_result(NB_LOAD_WARNING)\n    }\n  }\n\n  if (root._bokeh_is_loading === 0) {\n    console.debug(\"Bokeh: BokehJS loaded, going straight to plotting\");\n    run_inline_js();\n  } else {\n    load_libs(css_urls, js_urls, function() {\n      console.debug(\"Bokeh: BokehJS plotting callback run at\", now());\n      run_inline_js();\n    });\n  }\n}(window));"
     },
     "metadata": {},
     "output_type": "display_data"
    }
   ],
   "source": [
    "# activate Bokeh output in Jupyter notebook\n",
    "output_notebook()"
   ]
  },
  {
   "cell_type": "code",
   "execution_count": 3,
   "id": "1b6068fd9520aced",
   "metadata": {
    "collapsed": false,
    "jupyter": {
     "outputs_hidden": false
    }
   },
   "outputs": [],
   "source": [
    "# Read all pickle files containing all the cleaned data and useful dataframes\n",
    "\n",
    "df_asset = pd.read_pickle(\"data/asset_subset.pkl\")\n",
    "df_inflation = pd.read_pickle(\"data/inflation_subset.pkl\")\n",
    "pct_asset = pd.read_pickle(\"data/pct_asset.pkl\")\n",
    "pct_inflation = pd.read_pickle(\"data/pct_inflation.pkl\")\n",
    "data = pd.read_pickle(\"data/data_only\")"
   ]
  },
  {
   "cell_type": "markdown",
   "id": "7cdc3c285c2113d3",
   "metadata": {
    "collapsed": false,
    "jupyter": {
     "outputs_hidden": false
    }
   },
   "source": [
    "## **Original Value Trend Overtime** \n",
    "- In the next following figure\n",
    "- you can have an overview on the trend of each asset and inflation indicators over time\n",
    "- for scaling purpose, the figure consists of four parts with assets on the first row and indicators on the second row"
   ]
  },
  {
   "cell_type": "code",
   "execution_count": 4,
   "id": "5814346756da9674",
   "metadata": {
    "collapsed": false,
    "jupyter": {
     "outputs_hidden": false
    }
   },
   "outputs": [
    {
     "data": {
      "text/html": [
       "\n",
       "  <div id=\"70433203-865a-4540-ac65-3efe0fb5a916\" data-root-id=\"p1486\" style=\"display: contents;\"></div>\n"
      ]
     },
     "metadata": {},
     "output_type": "display_data"
    },
    {
     "data": {
      "application/javascript": [
       "(function(root) {\n",
       "  function embed_document(root) {\n",
       "  const docs_json = {\"ff2a6bb8-89c7-4686-b696-6a664d1bc8e7\":{\"version\":\"3.1.0\",\"title\":\"Bokeh Application\",\"defs\":[],\"roots\":[{\"type\":\"object\",\"name\":\"Column\",\"id\":\"p1486\",\"attributes\":{\"children\":[{\"type\":\"object\",\"name\":\"Div\",\"id\":\"p1483\",\"attributes\":{\"width\":800,\"margin\":10,\"align\":\"center\",\"text\":\"\\n    <p style='background-color: #ADD8E6; padding: 10px; font-size: 16px;'><b>Instructions:</b> Hover over the plot to see data values. Use the toolbar to pan, zoom, and reset.<br>The four charts are connected, zoom in on one, the others will adjust accordingly.</p>\\n\"}},{\"type\":\"object\",\"name\":\"Row\",\"id\":\"p1484\",\"attributes\":{\"children\":[{\"type\":\"object\",\"name\":\"Figure\",\"id\":\"p1002\",\"attributes\":{\"width\":500,\"height\":400,\"x_range\":{\"type\":\"object\",\"name\":\"DataRange1d\",\"id\":\"p1004\"},\"y_range\":{\"type\":\"object\",\"name\":\"DataRange1d\",\"id\":\"p1003\"},\"x_scale\":{\"type\":\"object\",\"name\":\"LinearScale\",\"id\":\"p1016\"},\"y_scale\":{\"type\":\"object\",\"name\":\"LinearScale\",\"id\":\"p1018\"},\"title\":{\"type\":\"object\",\"name\":\"Title\",\"id\":\"p1005\",\"attributes\":{\"text\":\"Asset Prices 1\"}},\"renderers\":[{\"type\":\"object\",\"name\":\"GlyphRenderer\",\"id\":\"p1340\",\"attributes\":{\"data_source\":{\"type\":\"object\",\"name\":\"ColumnDataSource\",\"id\":\"p1331\",\"attributes\":{\"selected\":{\"type\":\"object\",\"name\":\"Selection\",\"id\":\"p1333\",\"attributes\":{\"indices\":[],\"line_indices\":[]}},\"selection_policy\":{\"type\":\"object\",\"name\":\"UnionRenderers\",\"id\":\"p1332\"},\"data\":{\"type\":\"map\",\"entries\":[[\"x\",{\"type\":\"ndarray\",\"array\":{\"type\":\"bytes\",\"data\":\"AABARxh7ckIAAIByYphyQgAAgAP/tXJCAACAlJvTckIAAABak/ByQgAAQIXdDXNCAABAFnorc0IAAECnFklzQgAAgNJgZnNCAADA/aqDc0IAAMCOR6FzQgAAwB/kvnNCAABA5dvbc0IAAIAQJvlzQgAAgKHCFnRCAACAMl80dEIAAAD4VlF0QgAAQCOhbnRCAABAtD2MdEIAAEBF2ql0QgAAwArSxnRCAAAANhzkdEIAAADHuAF1QgAAAFhVH3VCAABAg588dUIAAICu6Vl1QgAAgD+Gd3VCAACA0CKVdUIAAACWGrJ1QgAAQMFkz3VCAABAUgHtdUIAAEDjnQp2QgAAwKiVJ3ZCAAAA1N9EdkIAAABlfGJ2QgAAAPYYgHZCAACAuxCddkIAAMDmWrp2QgAAwHf313ZCAADACJT1dkIAAAA03hJ3QgAAQF8oMHdCAABA8MRNd0IAAECBYWt3Qg==\"},\"shape\":[44],\"dtype\":\"float64\",\"order\":\"little\"}],[\"y\",{\"type\":\"ndarray\",\"array\":{\"type\":\"bytes\",\"data\":\"xWlTJaUgEEDFaVMlpSAQQFKQWAHdjRdA9e1vxmgjGUARr0/pxdgSQKjz6mDu6+q/QnHlbJFfCMD20ZEU410bwORduA7mgx5AAmUvdNyoCkAoRsY6FZQUQGx3C0ZN7hZA6XSPxC4DQEAAQjVmkcYQQFUExEcT8hJAtHCOy4g49T+weQxPkvjnv6cqatScIwvAiryG8hpK/L8sgSUa3BLwP0/qezCzox1AAEI1iE/6/z+Ohg45D8cdQECI7Es+QAJAWT1Mk3NvGkD4S7thjBYaQGDseN+kWCxAesUZ7PvlFECwZjVZV38jQGjGFTllXOG/OLTh88dcDkCKBBMMiVwMwF9i10twhBzAOwr++VcAFUAQOBeAoKgYQGaMfMFX5AXA2Nq6rwHQ5T84DZAMx5vqv0oYpcWuzPa/CLvcwdbABcDYK9eJuxzjP5kfUlEQfxlA0KC4BjPc0D8wxsQMYKEDQA==\"},\"shape\":[44],\"dtype\":\"float64\",\"order\":\"little\"}],[\"label\",[\"House_price\",\"House_price\",\"House_price\",\"House_price\",\"House_price\",\"House_price\",\"House_price\",\"House_price\",\"House_price\",\"House_price\",\"House_price\",\"House_price\",\"House_price\",\"House_price\",\"House_price\",\"House_price\",\"House_price\",\"House_price\",\"House_price\",\"House_price\",\"House_price\",\"House_price\",\"House_price\",\"House_price\",\"House_price\",\"House_price\",\"House_price\",\"House_price\",\"House_price\",\"House_price\",\"House_price\",\"House_price\",\"House_price\",\"House_price\",\"House_price\",\"House_price\",\"House_price\",\"House_price\",\"House_price\",\"House_price\",\"House_price\",\"House_price\",\"House_price\",\"House_price\"]]]}}},\"view\":{\"type\":\"object\",\"name\":\"CDSView\",\"id\":\"p1341\",\"attributes\":{\"filter\":{\"type\":\"object\",\"name\":\"AllIndices\",\"id\":\"p1342\"}}},\"glyph\":{\"type\":\"object\",\"name\":\"Line\",\"id\":\"p1337\",\"attributes\":{\"x\":{\"type\":\"field\",\"field\":\"x\"},\"y\":{\"type\":\"field\",\"field\":\"y\"},\"line_color\":\"#1f77b4\"}},\"nonselection_glyph\":{\"type\":\"object\",\"name\":\"Line\",\"id\":\"p1338\",\"attributes\":{\"x\":{\"type\":\"field\",\"field\":\"x\"},\"y\":{\"type\":\"field\",\"field\":\"y\"},\"line_color\":\"#1f77b4\",\"line_alpha\":0.1}},\"muted_glyph\":{\"type\":\"object\",\"name\":\"Line\",\"id\":\"p1339\",\"attributes\":{\"x\":{\"type\":\"field\",\"field\":\"x\"},\"y\":{\"type\":\"field\",\"field\":\"y\"},\"line_color\":\"#1f77b4\",\"line_alpha\":0.2}}}},{\"type\":\"object\",\"name\":\"GlyphRenderer\",\"id\":\"p1354\",\"attributes\":{\"data_source\":{\"type\":\"object\",\"name\":\"ColumnDataSource\",\"id\":\"p1345\",\"attributes\":{\"selected\":{\"type\":\"object\",\"name\":\"Selection\",\"id\":\"p1347\",\"attributes\":{\"indices\":[],\"line_indices\":[]}},\"selection_policy\":{\"type\":\"object\",\"name\":\"UnionRenderers\",\"id\":\"p1346\"},\"data\":{\"type\":\"map\",\"entries\":[[\"x\",{\"type\":\"ndarray\",\"array\":{\"type\":\"bytes\",\"data\":\"AABARxh7ckIAAIByYphyQgAAgAP/tXJCAACAlJvTckIAAABak/ByQgAAQIXdDXNCAABAFnorc0IAAECnFklzQgAAgNJgZnNCAADA/aqDc0IAAMCOR6FzQgAAwB/kvnNCAABA5dvbc0IAAIAQJvlzQgAAgKHCFnRCAACAMl80dEIAAAD4VlF0QgAAQCOhbnRCAABAtD2MdEIAAEBF2ql0QgAAwArSxnRCAAAANhzkdEIAAADHuAF1QgAAAFhVH3VCAABAg588dUIAAICu6Vl1QgAAgD+Gd3VCAACA0CKVdUIAAACWGrJ1QgAAQMFkz3VCAABAUgHtdUIAAEDjnQp2QgAAwKiVJ3ZCAAAA1N9EdkIAAABlfGJ2QgAAAPYYgHZCAACAuxCddkIAAMDmWrp2QgAAwHf313ZCAADACJT1dkIAAAA03hJ3QgAAQF8oMHdCAABA8MRNd0IAAECBYWt3Qg==\"},\"shape\":[44],\"dtype\":\"float64\",\"order\":\"little\"}],[\"y\",{\"type\":\"ndarray\",\"array\":{\"type\":\"bytes\",\"data\":\"ROqZdhvcNsBE6pl2G9w2wLR3HoCKdCVAs7hc5ib1FkA6Mv8vMBkRQNL6Nul3rhbAGOktXKcrLcBMaHgWHhgbwLo/auXTDAdAgAuGcjNq+r99j+mx8AcZwOY/Ot9JiiFAHIJMl9Xr9r8voxMQqQQnwNYvCCtSwCNAodXLht+WBcC33j2Km0EPwEgS4BTSo+c//TxUzlDPLkC6LgnrSWtCQCg+d12Fuy9AlNNcxRI/LEC0vqhbg6A8wOkZvjW23S9AtJIJDoE/LsABuNBgN8oDwODarYzOgQRAqGjh81dXCkCcT4VHV6QOQDCyNT2J4O2/iWg6T2acE0CCfUZY5fTzv5SlSfJsuRDAPGjTXyRKJMCYl+lavkvtv6m1BNVqNifATiwU19LuN0CPFpqAX/UMwHg5NUgvygPAzeWlfo70E0AzXoBi+KgjwLaF/ms4CyFAF5cQjd9GH0CaNq/OxbIfQA==\"},\"shape\":[44],\"dtype\":\"float64\",\"order\":\"little\"}],[\"label\",[\"Shanghai_stock_index\",\"Shanghai_stock_index\",\"Shanghai_stock_index\",\"Shanghai_stock_index\",\"Shanghai_stock_index\",\"Shanghai_stock_index\",\"Shanghai_stock_index\",\"Shanghai_stock_index\",\"Shanghai_stock_index\",\"Shanghai_stock_index\",\"Shanghai_stock_index\",\"Shanghai_stock_index\",\"Shanghai_stock_index\",\"Shanghai_stock_index\",\"Shanghai_stock_index\",\"Shanghai_stock_index\",\"Shanghai_stock_index\",\"Shanghai_stock_index\",\"Shanghai_stock_index\",\"Shanghai_stock_index\",\"Shanghai_stock_index\",\"Shanghai_stock_index\",\"Shanghai_stock_index\",\"Shanghai_stock_index\",\"Shanghai_stock_index\",\"Shanghai_stock_index\",\"Shanghai_stock_index\",\"Shanghai_stock_index\",\"Shanghai_stock_index\",\"Shanghai_stock_index\",\"Shanghai_stock_index\",\"Shanghai_stock_index\",\"Shanghai_stock_index\",\"Shanghai_stock_index\",\"Shanghai_stock_index\",\"Shanghai_stock_index\",\"Shanghai_stock_index\",\"Shanghai_stock_index\",\"Shanghai_stock_index\",\"Shanghai_stock_index\",\"Shanghai_stock_index\",\"Shanghai_stock_index\",\"Shanghai_stock_index\",\"Shanghai_stock_index\"]]]}}},\"view\":{\"type\":\"object\",\"name\":\"CDSView\",\"id\":\"p1355\",\"attributes\":{\"filter\":{\"type\":\"object\",\"name\":\"AllIndices\",\"id\":\"p1356\"}}},\"glyph\":{\"type\":\"object\",\"name\":\"Line\",\"id\":\"p1351\",\"attributes\":{\"x\":{\"type\":\"field\",\"field\":\"x\"},\"y\":{\"type\":\"field\",\"field\":\"y\"},\"line_color\":\"#aec7e8\"}},\"nonselection_glyph\":{\"type\":\"object\",\"name\":\"Line\",\"id\":\"p1352\",\"attributes\":{\"x\":{\"type\":\"field\",\"field\":\"x\"},\"y\":{\"type\":\"field\",\"field\":\"y\"},\"line_color\":\"#aec7e8\",\"line_alpha\":0.1}},\"muted_glyph\":{\"type\":\"object\",\"name\":\"Line\",\"id\":\"p1353\",\"attributes\":{\"x\":{\"type\":\"field\",\"field\":\"x\"},\"y\":{\"type\":\"field\",\"field\":\"y\"},\"line_color\":\"#aec7e8\",\"line_alpha\":0.2}}}},{\"type\":\"object\",\"name\":\"GlyphRenderer\",\"id\":\"p1367\",\"attributes\":{\"data_source\":{\"type\":\"object\",\"name\":\"ColumnDataSource\",\"id\":\"p1358\",\"attributes\":{\"selected\":{\"type\":\"object\",\"name\":\"Selection\",\"id\":\"p1360\",\"attributes\":{\"indices\":[],\"line_indices\":[]}},\"selection_policy\":{\"type\":\"object\",\"name\":\"UnionRenderers\",\"id\":\"p1359\"},\"data\":{\"type\":\"map\",\"entries\":[[\"x\",{\"type\":\"ndarray\",\"array\":{\"type\":\"bytes\",\"data\":\"AABARxh7ckIAAIByYphyQgAAgAP/tXJCAACAlJvTckIAAABak/ByQgAAQIXdDXNCAABAFnorc0IAAECnFklzQgAAgNJgZnNCAADA/aqDc0IAAMCOR6FzQgAAwB/kvnNCAABA5dvbc0IAAIAQJvlzQgAAgKHCFnRCAACAMl80dEIAAAD4VlF0QgAAQCOhbnRCAABAtD2MdEIAAEBF2ql0QgAAwArSxnRCAAAANhzkdEIAAADHuAF1QgAAAFhVH3VCAABAg588dUIAAICu6Vl1QgAAgD+Gd3VCAACA0CKVdUIAAACWGrJ1QgAAQMFkz3VCAABAUgHtdUIAAEDjnQp2QgAAwKiVJ3ZCAAAA1N9EdkIAAABlfGJ2QgAAAPYYgHZCAACAuxCddkIAAMDmWrp2QgAAwHf313ZCAADACJT1dkIAAAA03hJ3QgAAQF8oMHdCAABA8MRNd0IAAECBYWt3Qg==\"},\"shape\":[44],\"dtype\":\"float64\",\"order\":\"little\"}],[\"y\",{\"type\":\"ndarray\",\"array\":{\"type\":\"bytes\",\"data\":\"j4JGLoG0JkCPgkYugbQmQI6Ies0Jqg9ADVrikbKTGkCgVN6HjWfUPxQjJwquOBBA/uNdd5g8HkCuVAXUqv4VwKgQdBfVlhhAZDf0oOboE8BGauFJLFknQPgTRKobVRzAOl33i0UeEcCAA+aGcic4wNwtXUOXxiJAuNtOZOFEJcBjtsvURj4hQIh82QWjMfo/FNTv4Ay2H8Ao9k2TNC/gvy4zMzMzM/2/EKtDXjZy2L+0SrxLCn8AwB7fn1lM+gfAUmJ3M0eyLUAB69HM/wEkQAByPm6Nb/E/FDo0MhG5HMAAtUIMJyAUQB7Tiryo1fu/6E+J574I/D9e+GWhDWb6vx5zxZPdSvC/vlAegBS08b/o6GlULYn0v06U8kIB9h1A7KQ2n2wA7b9ggUJPEfUnQIqBa02C2CJA4HyKwrV+4r8qae4Jdg0ZQMsQcjKAySJAQHuYCiHw8j9RJVLJekIFwA==\"},\"shape\":[44],\"dtype\":\"float64\",\"order\":\"little\"}],[\"label\",[\"Gold_price\",\"Gold_price\",\"Gold_price\",\"Gold_price\",\"Gold_price\",\"Gold_price\",\"Gold_price\",\"Gold_price\",\"Gold_price\",\"Gold_price\",\"Gold_price\",\"Gold_price\",\"Gold_price\",\"Gold_price\",\"Gold_price\",\"Gold_price\",\"Gold_price\",\"Gold_price\",\"Gold_price\",\"Gold_price\",\"Gold_price\",\"Gold_price\",\"Gold_price\",\"Gold_price\",\"Gold_price\",\"Gold_price\",\"Gold_price\",\"Gold_price\",\"Gold_price\",\"Gold_price\",\"Gold_price\",\"Gold_price\",\"Gold_price\",\"Gold_price\",\"Gold_price\",\"Gold_price\",\"Gold_price\",\"Gold_price\",\"Gold_price\",\"Gold_price\",\"Gold_price\",\"Gold_price\",\"Gold_price\",\"Gold_price\"]]]}}},\"view\":{\"type\":\"object\",\"name\":\"CDSView\",\"id\":\"p1368\",\"attributes\":{\"filter\":{\"type\":\"object\",\"name\":\"AllIndices\",\"id\":\"p1369\"}}},\"glyph\":{\"type\":\"object\",\"name\":\"Line\",\"id\":\"p1364\",\"attributes\":{\"x\":{\"type\":\"field\",\"field\":\"x\"},\"y\":{\"type\":\"field\",\"field\":\"y\"},\"line_color\":\"#ff7f0e\"}},\"nonselection_glyph\":{\"type\":\"object\",\"name\":\"Line\",\"id\":\"p1365\",\"attributes\":{\"x\":{\"type\":\"field\",\"field\":\"x\"},\"y\":{\"type\":\"field\",\"field\":\"y\"},\"line_color\":\"#ff7f0e\",\"line_alpha\":0.1}},\"muted_glyph\":{\"type\":\"object\",\"name\":\"Line\",\"id\":\"p1366\",\"attributes\":{\"x\":{\"type\":\"field\",\"field\":\"x\"},\"y\":{\"type\":\"field\",\"field\":\"y\"},\"line_color\":\"#ff7f0e\",\"line_alpha\":0.2}}}},{\"type\":\"object\",\"name\":\"GlyphRenderer\",\"id\":\"p1380\",\"attributes\":{\"data_source\":{\"type\":\"object\",\"name\":\"ColumnDataSource\",\"id\":\"p1371\",\"attributes\":{\"selected\":{\"type\":\"object\",\"name\":\"Selection\",\"id\":\"p1373\",\"attributes\":{\"indices\":[],\"line_indices\":[]}},\"selection_policy\":{\"type\":\"object\",\"name\":\"UnionRenderers\",\"id\":\"p1372\"},\"data\":{\"type\":\"map\",\"entries\":[[\"x\",{\"type\":\"ndarray\",\"array\":{\"type\":\"bytes\",\"data\":\"AABARxh7ckIAAIByYphyQgAAgAP/tXJCAACAlJvTckIAAABak/ByQgAAQIXdDXNCAABAFnorc0IAAECnFklzQgAAgNJgZnNCAADA/aqDc0IAAMCOR6FzQgAAwB/kvnNCAABA5dvbc0IAAIAQJvlzQgAAgKHCFnRCAACAMl80dEIAAAD4VlF0QgAAQCOhbnRCAABAtD2MdEIAAEBF2ql0QgAAwArSxnRCAAAANhzkdEIAAADHuAF1QgAAAFhVH3VCAABAg588dUIAAICu6Vl1QgAAgD+Gd3VCAACA0CKVdUIAAACWGrJ1QgAAQMFkz3VCAABAUgHtdUIAAEDjnQp2QgAAwKiVJ3ZCAAAA1N9EdkIAAABlfGJ2QgAAAPYYgHZCAACAuxCddkIAAMDmWrp2QgAAwHf313ZCAADACJT1dkIAAAA03hJ3QgAAQF8oMHdCAABA8MRNd0IAAECBYWt3Qg==\"},\"shape\":[44],\"dtype\":\"float64\",\"order\":\"little\"}],[\"y\",{\"type\":\"ndarray\",\"array\":{\"type\":\"bytes\",\"data\":\"mpmZmZmZEECamZmZmZkQQJqZmZmZmRBAmpmZmZmZEEAAAAAAAAASQAAAAAAAABNAAAAAAAAAFEAAAAAAAAAUQAAAAAAAABRAmpmZmZmZEkAAAAAAAAARQAAAAAAAABFAAAAAAAAAEUAAAAAAAAARQAAAAAAAABFAAAAAAAAAEUAAAAAAAAARQAAAAAAAABFAAAAAAAAAEUAAAAAAAAAQQAAAAAAAAA5AAAAAAAAACkAAAAAAAAAIQAAAAAAAAAhAAAAAAAAACEAAAAAAAAAIQAAAAAAAAAhAAAAAAAAACEAAAAAAAAAIQAAAAAAAAAhAAAAAAAAACEAAAAAAAAAIQAAAAAAAAAhAAAAAAAAACEAAAAAAAAAIQAAAAAAAAAhAAAAAAAAACEAAAAAAAAAIQAAAAAAAAAhAAAAAAAAACEAAAAAAAAAIQAAAAAAAAAhAAAAAAAAACEAAAAAAAAAIQA==\"},\"shape\":[44],\"dtype\":\"float64\",\"order\":\"little\"}],[\"label\",[\"Fixed_deposit_rate\",\"Fixed_deposit_rate\",\"Fixed_deposit_rate\",\"Fixed_deposit_rate\",\"Fixed_deposit_rate\",\"Fixed_deposit_rate\",\"Fixed_deposit_rate\",\"Fixed_deposit_rate\",\"Fixed_deposit_rate\",\"Fixed_deposit_rate\",\"Fixed_deposit_rate\",\"Fixed_deposit_rate\",\"Fixed_deposit_rate\",\"Fixed_deposit_rate\",\"Fixed_deposit_rate\",\"Fixed_deposit_rate\",\"Fixed_deposit_rate\",\"Fixed_deposit_rate\",\"Fixed_deposit_rate\",\"Fixed_deposit_rate\",\"Fixed_deposit_rate\",\"Fixed_deposit_rate\",\"Fixed_deposit_rate\",\"Fixed_deposit_rate\",\"Fixed_deposit_rate\",\"Fixed_deposit_rate\",\"Fixed_deposit_rate\",\"Fixed_deposit_rate\",\"Fixed_deposit_rate\",\"Fixed_deposit_rate\",\"Fixed_deposit_rate\",\"Fixed_deposit_rate\",\"Fixed_deposit_rate\",\"Fixed_deposit_rate\",\"Fixed_deposit_rate\",\"Fixed_deposit_rate\",\"Fixed_deposit_rate\",\"Fixed_deposit_rate\",\"Fixed_deposit_rate\",\"Fixed_deposit_rate\",\"Fixed_deposit_rate\",\"Fixed_deposit_rate\",\"Fixed_deposit_rate\",\"Fixed_deposit_rate\"]]]}}},\"view\":{\"type\":\"object\",\"name\":\"CDSView\",\"id\":\"p1381\",\"attributes\":{\"filter\":{\"type\":\"object\",\"name\":\"AllIndices\",\"id\":\"p1382\"}}},\"glyph\":{\"type\":\"object\",\"name\":\"Line\",\"id\":\"p1377\",\"attributes\":{\"x\":{\"type\":\"field\",\"field\":\"x\"},\"y\":{\"type\":\"field\",\"field\":\"y\"},\"line_color\":\"#ffbb78\"}},\"nonselection_glyph\":{\"type\":\"object\",\"name\":\"Line\",\"id\":\"p1378\",\"attributes\":{\"x\":{\"type\":\"field\",\"field\":\"x\"},\"y\":{\"type\":\"field\",\"field\":\"y\"},\"line_color\":\"#ffbb78\",\"line_alpha\":0.1}},\"muted_glyph\":{\"type\":\"object\",\"name\":\"Line\",\"id\":\"p1379\",\"attributes\":{\"x\":{\"type\":\"field\",\"field\":\"x\"},\"y\":{\"type\":\"field\",\"field\":\"y\"},\"line_color\":\"#ffbb78\",\"line_alpha\":0.2}}}}],\"toolbar\":{\"type\":\"object\",\"name\":\"Toolbar\",\"id\":\"p1010\",\"attributes\":{\"tools\":[{\"type\":\"object\",\"name\":\"PanTool\",\"id\":\"p1070\"},{\"type\":\"object\",\"name\":\"WheelZoomTool\",\"id\":\"p1071\"},{\"type\":\"object\",\"name\":\"BoxZoomTool\",\"id\":\"p1072\",\"attributes\":{\"overlay\":{\"type\":\"object\",\"name\":\"BoxAnnotation\",\"id\":\"p1073\",\"attributes\":{\"syncable\":false,\"level\":\"overlay\",\"visible\":false,\"left_units\":\"canvas\",\"right_units\":\"canvas\",\"bottom_units\":\"canvas\",\"top_units\":\"canvas\",\"line_color\":\"black\",\"line_alpha\":1.0,\"line_width\":2,\"line_dash\":[4,4],\"fill_color\":\"lightgrey\",\"fill_alpha\":0.5}}}},{\"type\":\"object\",\"name\":\"SaveTool\",\"id\":\"p1074\"},{\"type\":\"object\",\"name\":\"ResetTool\",\"id\":\"p1075\"},{\"type\":\"object\",\"name\":\"HelpTool\",\"id\":\"p1076\"},{\"type\":\"object\",\"name\":\"HoverTool\",\"id\":\"p1478\",\"attributes\":{\"renderers\":\"auto\",\"tooltips\":[[\"Label\",\"@label\"],[\"Time\",\"@x{%F}\"],[\"Value\",\"@y\"]],\"formatters\":{\"type\":\"map\",\"entries\":[[\"@x\",\"datetime\"]]}}}]}},\"left\":[{\"type\":\"object\",\"name\":\"LinearAxis\",\"id\":\"p1063\",\"attributes\":{\"ticker\":{\"type\":\"object\",\"name\":\"BasicTicker\",\"id\":\"p1066\",\"attributes\":{\"mantissas\":[1,2,5]}},\"formatter\":{\"type\":\"object\",\"name\":\"BasicTickFormatter\",\"id\":\"p1064\"},\"major_label_policy\":{\"type\":\"object\",\"name\":\"AllLabels\",\"id\":\"p1065\"}}}],\"below\":[{\"type\":\"object\",\"name\":\"DatetimeAxis\",\"id\":\"p1020\",\"attributes\":{\"ticker\":{\"type\":\"object\",\"name\":\"DatetimeTicker\",\"id\":\"p1023\",\"attributes\":{\"num_minor_ticks\":5,\"tickers\":[{\"type\":\"object\",\"name\":\"AdaptiveTicker\",\"id\":\"p1024\",\"attributes\":{\"num_minor_ticks\":0,\"mantissas\":[1,2,5],\"max_interval\":500.0}},{\"type\":\"object\",\"name\":\"AdaptiveTicker\",\"id\":\"p1025\",\"attributes\":{\"num_minor_ticks\":0,\"base\":60,\"mantissas\":[1,2,5,10,15,20,30],\"min_interval\":1000.0,\"max_interval\":1800000.0}},{\"type\":\"object\",\"name\":\"AdaptiveTicker\",\"id\":\"p1026\",\"attributes\":{\"num_minor_ticks\":0,\"base\":24,\"mantissas\":[1,2,4,6,8,12],\"min_interval\":3600000.0,\"max_interval\":43200000.0}},{\"type\":\"object\",\"name\":\"DaysTicker\",\"id\":\"p1027\",\"attributes\":{\"days\":[1,2,3,4,5,6,7,8,9,10,11,12,13,14,15,16,17,18,19,20,21,22,23,24,25,26,27,28,29,30,31]}},{\"type\":\"object\",\"name\":\"DaysTicker\",\"id\":\"p1028\",\"attributes\":{\"days\":[1,4,7,10,13,16,19,22,25,28]}},{\"type\":\"object\",\"name\":\"DaysTicker\",\"id\":\"p1029\",\"attributes\":{\"days\":[1,8,15,22]}},{\"type\":\"object\",\"name\":\"DaysTicker\",\"id\":\"p1030\",\"attributes\":{\"days\":[1,15]}},{\"type\":\"object\",\"name\":\"MonthsTicker\",\"id\":\"p1031\",\"attributes\":{\"months\":[0,1,2,3,4,5,6,7,8,9,10,11]}},{\"type\":\"object\",\"name\":\"MonthsTicker\",\"id\":\"p1032\",\"attributes\":{\"months\":[0,2,4,6,8,10]}},{\"type\":\"object\",\"name\":\"MonthsTicker\",\"id\":\"p1033\",\"attributes\":{\"months\":[0,4,8]}},{\"type\":\"object\",\"name\":\"MonthsTicker\",\"id\":\"p1034\",\"attributes\":{\"months\":[0,6]}},{\"type\":\"object\",\"name\":\"YearsTicker\",\"id\":\"p1035\"}]}},\"formatter\":{\"type\":\"object\",\"name\":\"DatetimeTickFormatter\",\"id\":\"p1021\"},\"major_label_policy\":{\"type\":\"object\",\"name\":\"AllLabels\",\"id\":\"p1022\"}}}],\"center\":[{\"type\":\"object\",\"name\":\"Grid\",\"id\":\"p1062\",\"attributes\":{\"axis\":{\"id\":\"p1020\"}}},{\"type\":\"object\",\"name\":\"Grid\",\"id\":\"p1069\",\"attributes\":{\"dimension\":1,\"axis\":{\"id\":\"p1063\"}}},{\"type\":\"object\",\"name\":\"Legend\",\"id\":\"p1343\",\"attributes\":{\"background_fill_alpha\":0,\"label_text_font_size\":\"8pt\",\"items\":[{\"type\":\"object\",\"name\":\"LegendItem\",\"id\":\"p1344\",\"attributes\":{\"label\":{\"type\":\"value\",\"value\":\"House_price\"},\"renderers\":[{\"id\":\"p1340\"}]}},{\"type\":\"object\",\"name\":\"LegendItem\",\"id\":\"p1357\",\"attributes\":{\"label\":{\"type\":\"value\",\"value\":\"Shanghai_stock_index\"},\"renderers\":[{\"id\":\"p1354\"}]}},{\"type\":\"object\",\"name\":\"LegendItem\",\"id\":\"p1370\",\"attributes\":{\"label\":{\"type\":\"value\",\"value\":\"Gold_price\"},\"renderers\":[{\"id\":\"p1367\"}]}},{\"type\":\"object\",\"name\":\"LegendItem\",\"id\":\"p1383\",\"attributes\":{\"label\":{\"type\":\"value\",\"value\":\"Fixed_deposit_rate\"},\"renderers\":[{\"id\":\"p1380\"}]}}]}}]}},{\"type\":\"object\",\"name\":\"Figure\",\"id\":\"p1085\",\"attributes\":{\"width\":500,\"height\":400,\"x_range\":{\"id\":\"p1004\"},\"y_range\":{\"type\":\"object\",\"name\":\"DataRange1d\",\"id\":\"p1087\"},\"x_scale\":{\"type\":\"object\",\"name\":\"LinearScale\",\"id\":\"p1098\"},\"y_scale\":{\"type\":\"object\",\"name\":\"LinearScale\",\"id\":\"p1100\"},\"title\":{\"type\":\"object\",\"name\":\"Title\",\"id\":\"p1088\",\"attributes\":{\"text\":\"Asset Prices 2\"}},\"renderers\":[{\"type\":\"object\",\"name\":\"GlyphRenderer\",\"id\":\"p1393\",\"attributes\":{\"data_source\":{\"type\":\"object\",\"name\":\"ColumnDataSource\",\"id\":\"p1384\",\"attributes\":{\"selected\":{\"type\":\"object\",\"name\":\"Selection\",\"id\":\"p1386\",\"attributes\":{\"indices\":[],\"line_indices\":[]}},\"selection_policy\":{\"type\":\"object\",\"name\":\"UnionRenderers\",\"id\":\"p1385\"},\"data\":{\"type\":\"map\",\"entries\":[[\"x\",{\"type\":\"ndarray\",\"array\":{\"type\":\"bytes\",\"data\":\"AABARxh7ckIAAIByYphyQgAAgAP/tXJCAACAlJvTckIAAABak/ByQgAAQIXdDXNCAABAFnorc0IAAECnFklzQgAAgNJgZnNCAADA/aqDc0IAAMCOR6FzQgAAwB/kvnNCAABA5dvbc0IAAIAQJvlzQgAAgKHCFnRCAACAMl80dEIAAAD4VlF0QgAAQCOhbnRCAABAtD2MdEIAAEBF2ql0QgAAwArSxnRCAAAANhzkdEIAAADHuAF1QgAAAFhVH3VCAABAg588dUIAAICu6Vl1QgAAgD+Gd3VCAACA0CKVdUIAAACWGrJ1QgAAQMFkz3VCAABAUgHtdUIAAEDjnQp2QgAAwKiVJ3ZCAAAA1N9EdkIAAABlfGJ2QgAAAPYYgHZCAACAuxCddkIAAMDmWrp2QgAAwHf313ZCAADACJT1dkIAAAA03hJ3QgAAQF8oMHdCAABA8MRNd0IAAECBYWt3Qg==\"},\"shape\":[44],\"dtype\":\"float64\",\"order\":\"little\"}],[\"y\",{\"type\":\"ndarray\",\"array\":{\"type\":\"bytes\",\"data\":\"qu6RzVXzjD9u36P+eoWVPx2wq8lTVpM/E9VbA1slmD+X5esy/KebPx050hkYeaE/vxBy3v/HoT9ZUu4+x0ebPwzqW+Z0WZw/xVT6CWe3lj8GaFvNOuObP6oLeJlho5w/AwmKH2Pumj+FYFW9/E6jP86OVN/5RaE//P7NixNfpT/O/6uOHOmcP4Ek7NtJRKA/HeOKi6Nyoz96jV2iemugP7Qh/8wgPqA/hbAaS1gbkz9MNh5ssduXP0s9C0J5H5c/A5ZcxeI3lT+7Qh8sY0OXP/rwLEFGQJU/ezApPj4hmz91kxgEVg6dP4UGYtnMIaE/3xltVRLZlz9lprT+lgCkP1+WdmouN6A/5C1XPzbJnz+iKqbSTzibP/lNYaWCipo/NloO9FDblj+A1CZO7neYP+mayTfb3Jg/PIOG/gkulj+2LF+X4T+NP772zJIANZU/YjHqWnufmj8/ARQjS+aYPw==\"},\"shape\":[44],\"dtype\":\"float64\",\"order\":\"little\"}],[\"label\",[\"government_bond_yield_sixm\",\"government_bond_yield_sixm\",\"government_bond_yield_sixm\",\"government_bond_yield_sixm\",\"government_bond_yield_sixm\",\"government_bond_yield_sixm\",\"government_bond_yield_sixm\",\"government_bond_yield_sixm\",\"government_bond_yield_sixm\",\"government_bond_yield_sixm\",\"government_bond_yield_sixm\",\"government_bond_yield_sixm\",\"government_bond_yield_sixm\",\"government_bond_yield_sixm\",\"government_bond_yield_sixm\",\"government_bond_yield_sixm\",\"government_bond_yield_sixm\",\"government_bond_yield_sixm\",\"government_bond_yield_sixm\",\"government_bond_yield_sixm\",\"government_bond_yield_sixm\",\"government_bond_yield_sixm\",\"government_bond_yield_sixm\",\"government_bond_yield_sixm\",\"government_bond_yield_sixm\",\"government_bond_yield_sixm\",\"government_bond_yield_sixm\",\"government_bond_yield_sixm\",\"government_bond_yield_sixm\",\"government_bond_yield_sixm\",\"government_bond_yield_sixm\",\"government_bond_yield_sixm\",\"government_bond_yield_sixm\",\"government_bond_yield_sixm\",\"government_bond_yield_sixm\",\"government_bond_yield_sixm\",\"government_bond_yield_sixm\",\"government_bond_yield_sixm\",\"government_bond_yield_sixm\",\"government_bond_yield_sixm\",\"government_bond_yield_sixm\",\"government_bond_yield_sixm\",\"government_bond_yield_sixm\",\"government_bond_yield_sixm\"]]]}}},\"view\":{\"type\":\"object\",\"name\":\"CDSView\",\"id\":\"p1394\",\"attributes\":{\"filter\":{\"type\":\"object\",\"name\":\"AllIndices\",\"id\":\"p1395\"}}},\"glyph\":{\"type\":\"object\",\"name\":\"Line\",\"id\":\"p1390\",\"attributes\":{\"x\":{\"type\":\"field\",\"field\":\"x\"},\"y\":{\"type\":\"field\",\"field\":\"y\"},\"line_color\":\"#2ca02c\"}},\"nonselection_glyph\":{\"type\":\"object\",\"name\":\"Line\",\"id\":\"p1391\",\"attributes\":{\"x\":{\"type\":\"field\",\"field\":\"x\"},\"y\":{\"type\":\"field\",\"field\":\"y\"},\"line_color\":\"#2ca02c\",\"line_alpha\":0.1}},\"muted_glyph\":{\"type\":\"object\",\"name\":\"Line\",\"id\":\"p1392\",\"attributes\":{\"x\":{\"type\":\"field\",\"field\":\"x\"},\"y\":{\"type\":\"field\",\"field\":\"y\"},\"line_color\":\"#2ca02c\",\"line_alpha\":0.2}}}},{\"type\":\"object\",\"name\":\"GlyphRenderer\",\"id\":\"p1407\",\"attributes\":{\"data_source\":{\"type\":\"object\",\"name\":\"ColumnDataSource\",\"id\":\"p1398\",\"attributes\":{\"selected\":{\"type\":\"object\",\"name\":\"Selection\",\"id\":\"p1400\",\"attributes\":{\"indices\":[],\"line_indices\":[]}},\"selection_policy\":{\"type\":\"object\",\"name\":\"UnionRenderers\",\"id\":\"p1399\"},\"data\":{\"type\":\"map\",\"entries\":[[\"x\",{\"type\":\"ndarray\",\"array\":{\"type\":\"bytes\",\"data\":\"AABARxh7ckIAAIByYphyQgAAgAP/tXJCAACAlJvTckIAAABak/ByQgAAQIXdDXNCAABAFnorc0IAAECnFklzQgAAgNJgZnNCAADA/aqDc0IAAMCOR6FzQgAAwB/kvnNCAABA5dvbc0IAAIAQJvlzQgAAgKHCFnRCAACAMl80dEIAAAD4VlF0QgAAQCOhbnRCAABAtD2MdEIAAEBF2ql0QgAAwArSxnRCAAAANhzkdEIAAADHuAF1QgAAAFhVH3VCAABAg588dUIAAICu6Vl1QgAAgD+Gd3VCAACA0CKVdUIAAACWGrJ1QgAAQMFkz3VCAABAUgHtdUIAAEDjnQp2QgAAwKiVJ3ZCAAAA1N9EdkIAAABlfGJ2QgAAAPYYgHZCAACAuxCddkIAAMDmWrp2QgAAwHf313ZCAADACJT1dkIAAAA03hJ3QgAAQF8oMHdCAABA8MRNd0IAAECBYWt3Qg==\"},\"shape\":[44],\"dtype\":\"float64\",\"order\":\"little\"}],[\"y\",{\"type\":\"ndarray\",\"array\":{\"type\":\"bytes\",\"data\":\"l445z9iXnD9z9s5oq5KYP+okW11OCZg/0nDK3Hwjmj8tfH2tS42gP4enV8oyxKE/rtUe9kIBoz+MS1Xa4hqfP7AD54wo7Z0/lxqhn6nXnT+atRSQ9j+gP5+sGK4OgKA/gA9eu7ThoD/19XzNctmgP/LqHAOy16M/WkbqPZXTpj95r1qZ8EulPzxrt11orqM/dZKtLqcEpD8leEMaFTihP+58PzVeuqE/YCFzZVBtoD94flGC/kKfP6X2ItqOqZs/qn06HjNQmT8Yz6Chf4KbP6WHodXJGZo/feiC+pY5nT+nzTgNUYWfP9mvO9154qE/vxBy3v/HmT9XsmMjEK+jP9CAejNqvqI/58dfWtQnoT+OPuYDAp2hP7aF56ViY54/Suza3m5Jnj8Ec/T4vU2fP138bU+Q2J4/Tl/P1yyXnT/PhZFe1O6XP02espquJ5o/NpVFYRdFnz+Fs1vLZDiePw==\"},\"shape\":[44],\"dtype\":\"float64\",\"order\":\"little\"}],[\"label\",[\"government_bond_yield_fivey\",\"government_bond_yield_fivey\",\"government_bond_yield_fivey\",\"government_bond_yield_fivey\",\"government_bond_yield_fivey\",\"government_bond_yield_fivey\",\"government_bond_yield_fivey\",\"government_bond_yield_fivey\",\"government_bond_yield_fivey\",\"government_bond_yield_fivey\",\"government_bond_yield_fivey\",\"government_bond_yield_fivey\",\"government_bond_yield_fivey\",\"government_bond_yield_fivey\",\"government_bond_yield_fivey\",\"government_bond_yield_fivey\",\"government_bond_yield_fivey\",\"government_bond_yield_fivey\",\"government_bond_yield_fivey\",\"government_bond_yield_fivey\",\"government_bond_yield_fivey\",\"government_bond_yield_fivey\",\"government_bond_yield_fivey\",\"government_bond_yield_fivey\",\"government_bond_yield_fivey\",\"government_bond_yield_fivey\",\"government_bond_yield_fivey\",\"government_bond_yield_fivey\",\"government_bond_yield_fivey\",\"government_bond_yield_fivey\",\"government_bond_yield_fivey\",\"government_bond_yield_fivey\",\"government_bond_yield_fivey\",\"government_bond_yield_fivey\",\"government_bond_yield_fivey\",\"government_bond_yield_fivey\",\"government_bond_yield_fivey\",\"government_bond_yield_fivey\",\"government_bond_yield_fivey\",\"government_bond_yield_fivey\",\"government_bond_yield_fivey\",\"government_bond_yield_fivey\",\"government_bond_yield_fivey\",\"government_bond_yield_fivey\"]]]}}},\"view\":{\"type\":\"object\",\"name\":\"CDSView\",\"id\":\"p1408\",\"attributes\":{\"filter\":{\"type\":\"object\",\"name\":\"AllIndices\",\"id\":\"p1409\"}}},\"glyph\":{\"type\":\"object\",\"name\":\"Line\",\"id\":\"p1404\",\"attributes\":{\"x\":{\"type\":\"field\",\"field\":\"x\"},\"y\":{\"type\":\"field\",\"field\":\"y\"},\"line_color\":\"#98df8a\"}},\"nonselection_glyph\":{\"type\":\"object\",\"name\":\"Line\",\"id\":\"p1405\",\"attributes\":{\"x\":{\"type\":\"field\",\"field\":\"x\"},\"y\":{\"type\":\"field\",\"field\":\"y\"},\"line_color\":\"#98df8a\",\"line_alpha\":0.1}},\"muted_glyph\":{\"type\":\"object\",\"name\":\"Line\",\"id\":\"p1406\",\"attributes\":{\"x\":{\"type\":\"field\",\"field\":\"x\"},\"y\":{\"type\":\"field\",\"field\":\"y\"},\"line_color\":\"#98df8a\",\"line_alpha\":0.2}}}},{\"type\":\"object\",\"name\":\"GlyphRenderer\",\"id\":\"p1420\",\"attributes\":{\"data_source\":{\"type\":\"object\",\"name\":\"ColumnDataSource\",\"id\":\"p1411\",\"attributes\":{\"selected\":{\"type\":\"object\",\"name\":\"Selection\",\"id\":\"p1413\",\"attributes\":{\"indices\":[],\"line_indices\":[]}},\"selection_policy\":{\"type\":\"object\",\"name\":\"UnionRenderers\",\"id\":\"p1412\"},\"data\":{\"type\":\"map\",\"entries\":[[\"x\",{\"type\":\"ndarray\",\"array\":{\"type\":\"bytes\",\"data\":\"AABARxh7ckIAAIByYphyQgAAgAP/tXJCAACAlJvTckIAAABak/ByQgAAQIXdDXNCAABAFnorc0IAAECnFklzQgAAgNJgZnNCAADA/aqDc0IAAMCOR6FzQgAAwB/kvnNCAABA5dvbc0IAAIAQJvlzQgAAgKHCFnRCAACAMl80dEIAAAD4VlF0QgAAQCOhbnRCAABAtD2MdEIAAEBF2ql0QgAAwArSxnRCAAAANhzkdEIAAADHuAF1QgAAAFhVH3VCAABAg588dUIAAICu6Vl1QgAAgD+Gd3VCAACA0CKVdUIAAACWGrJ1QgAAQMFkz3VCAABAUgHtdUIAAEDjnQp2QgAAwKiVJ3ZCAAAA1N9EdkIAAABlfGJ2QgAAAPYYgHZCAACAuxCddkIAAMDmWrp2QgAAwHf313ZCAADACJT1dkIAAAA03hJ3QgAAQF8oMHdCAABA8MRNd0IAAECBYWt3Qg==\"},\"shape\":[44],\"dtype\":\"float64\",\"order\":\"little\"}],[\"y\",{\"type\":\"ndarray\",\"array\":{\"type\":\"bytes\",\"data\":\"Ps+fNqrToT/SjEXT2cmgP2X7kLdc/aA/qN+FrdnKmz+6MT1hiQekPw2K5gEs8qM/wJXs2AjEoz9EM0+uKZChP5tXdVYL7KE/4978hokGoT9xdJXurrOhP9nqckpATKI/E38UdeYeoj+WQ4ts5/uhPxpTsMbZdKQ/SDfCoiJOpz+63GCowwqnP1N6ppcYy6Q/VBoxs89jpD+A1vz4S4uiP7pNuFfmraI/H73hPnJroj+ALESHwJGgPxxEa0Wb45w/iBBXzt4ZnT/K+WLvxRedPz+sN2qF6Zs/CK9d2nBYoj/VQsnk1M6gP63cC8wKRaI/wQKYMnBAmz/bNLbXgt6jPwVvSKMCJ6M/H/et1onLoT8dOj3vxoKiP6JinL8JhaA/OzQsRl1rnz//klSmmIOgP9UkeEMaFaA/c2N6whIPoD8eFf93RIWaP0d3EDtT6Jw/v0nToGgeoD9qvko+dhegPw==\"},\"shape\":[44],\"dtype\":\"float64\",\"order\":\"little\"}],[\"label\",[\"government_bond_yield_teny\",\"government_bond_yield_teny\",\"government_bond_yield_teny\",\"government_bond_yield_teny\",\"government_bond_yield_teny\",\"government_bond_yield_teny\",\"government_bond_yield_teny\",\"government_bond_yield_teny\",\"government_bond_yield_teny\",\"government_bond_yield_teny\",\"government_bond_yield_teny\",\"government_bond_yield_teny\",\"government_bond_yield_teny\",\"government_bond_yield_teny\",\"government_bond_yield_teny\",\"government_bond_yield_teny\",\"government_bond_yield_teny\",\"government_bond_yield_teny\",\"government_bond_yield_teny\",\"government_bond_yield_teny\",\"government_bond_yield_teny\",\"government_bond_yield_teny\",\"government_bond_yield_teny\",\"government_bond_yield_teny\",\"government_bond_yield_teny\",\"government_bond_yield_teny\",\"government_bond_yield_teny\",\"government_bond_yield_teny\",\"government_bond_yield_teny\",\"government_bond_yield_teny\",\"government_bond_yield_teny\",\"government_bond_yield_teny\",\"government_bond_yield_teny\",\"government_bond_yield_teny\",\"government_bond_yield_teny\",\"government_bond_yield_teny\",\"government_bond_yield_teny\",\"government_bond_yield_teny\",\"government_bond_yield_teny\",\"government_bond_yield_teny\",\"government_bond_yield_teny\",\"government_bond_yield_teny\",\"government_bond_yield_teny\",\"government_bond_yield_teny\"]]]}}},\"view\":{\"type\":\"object\",\"name\":\"CDSView\",\"id\":\"p1421\",\"attributes\":{\"filter\":{\"type\":\"object\",\"name\":\"AllIndices\",\"id\":\"p1422\"}}},\"glyph\":{\"type\":\"object\",\"name\":\"Line\",\"id\":\"p1417\",\"attributes\":{\"x\":{\"type\":\"field\",\"field\":\"x\"},\"y\":{\"type\":\"field\",\"field\":\"y\"},\"line_color\":\"#d62728\"}},\"nonselection_glyph\":{\"type\":\"object\",\"name\":\"Line\",\"id\":\"p1418\",\"attributes\":{\"x\":{\"type\":\"field\",\"field\":\"x\"},\"y\":{\"type\":\"field\",\"field\":\"y\"},\"line_color\":\"#d62728\",\"line_alpha\":0.1}},\"muted_glyph\":{\"type\":\"object\",\"name\":\"Line\",\"id\":\"p1419\",\"attributes\":{\"x\":{\"type\":\"field\",\"field\":\"x\"},\"y\":{\"type\":\"field\",\"field\":\"y\"},\"line_color\":\"#d62728\",\"line_alpha\":0.2}}}}],\"toolbar\":{\"type\":\"object\",\"name\":\"Toolbar\",\"id\":\"p1093\",\"attributes\":{\"tools\":[{\"type\":\"object\",\"name\":\"PanTool\",\"id\":\"p1152\"},{\"type\":\"object\",\"name\":\"WheelZoomTool\",\"id\":\"p1153\"},{\"type\":\"object\",\"name\":\"BoxZoomTool\",\"id\":\"p1154\",\"attributes\":{\"overlay\":{\"type\":\"object\",\"name\":\"BoxAnnotation\",\"id\":\"p1155\",\"attributes\":{\"syncable\":false,\"level\":\"overlay\",\"visible\":false,\"left_units\":\"canvas\",\"right_units\":\"canvas\",\"bottom_units\":\"canvas\",\"top_units\":\"canvas\",\"line_color\":\"black\",\"line_alpha\":1.0,\"line_width\":2,\"line_dash\":[4,4],\"fill_color\":\"lightgrey\",\"fill_alpha\":0.5}}}},{\"type\":\"object\",\"name\":\"SaveTool\",\"id\":\"p1156\"},{\"type\":\"object\",\"name\":\"ResetTool\",\"id\":\"p1157\"},{\"type\":\"object\",\"name\":\"HelpTool\",\"id\":\"p1158\"},{\"id\":\"p1478\"}]}},\"left\":[{\"type\":\"object\",\"name\":\"LinearAxis\",\"id\":\"p1145\",\"attributes\":{\"ticker\":{\"type\":\"object\",\"name\":\"BasicTicker\",\"id\":\"p1148\",\"attributes\":{\"mantissas\":[1,2,5]}},\"formatter\":{\"type\":\"object\",\"name\":\"BasicTickFormatter\",\"id\":\"p1146\"},\"major_label_policy\":{\"type\":\"object\",\"name\":\"AllLabels\",\"id\":\"p1147\"}}}],\"below\":[{\"type\":\"object\",\"name\":\"DatetimeAxis\",\"id\":\"p1102\",\"attributes\":{\"ticker\":{\"type\":\"object\",\"name\":\"DatetimeTicker\",\"id\":\"p1105\",\"attributes\":{\"num_minor_ticks\":5,\"tickers\":[{\"type\":\"object\",\"name\":\"AdaptiveTicker\",\"id\":\"p1106\",\"attributes\":{\"num_minor_ticks\":0,\"mantissas\":[1,2,5],\"max_interval\":500.0}},{\"type\":\"object\",\"name\":\"AdaptiveTicker\",\"id\":\"p1107\",\"attributes\":{\"num_minor_ticks\":0,\"base\":60,\"mantissas\":[1,2,5,10,15,20,30],\"min_interval\":1000.0,\"max_interval\":1800000.0}},{\"type\":\"object\",\"name\":\"AdaptiveTicker\",\"id\":\"p1108\",\"attributes\":{\"num_minor_ticks\":0,\"base\":24,\"mantissas\":[1,2,4,6,8,12],\"min_interval\":3600000.0,\"max_interval\":43200000.0}},{\"type\":\"object\",\"name\":\"DaysTicker\",\"id\":\"p1109\",\"attributes\":{\"days\":[1,2,3,4,5,6,7,8,9,10,11,12,13,14,15,16,17,18,19,20,21,22,23,24,25,26,27,28,29,30,31]}},{\"type\":\"object\",\"name\":\"DaysTicker\",\"id\":\"p1110\",\"attributes\":{\"days\":[1,4,7,10,13,16,19,22,25,28]}},{\"type\":\"object\",\"name\":\"DaysTicker\",\"id\":\"p1111\",\"attributes\":{\"days\":[1,8,15,22]}},{\"type\":\"object\",\"name\":\"DaysTicker\",\"id\":\"p1112\",\"attributes\":{\"days\":[1,15]}},{\"type\":\"object\",\"name\":\"MonthsTicker\",\"id\":\"p1113\",\"attributes\":{\"months\":[0,1,2,3,4,5,6,7,8,9,10,11]}},{\"type\":\"object\",\"name\":\"MonthsTicker\",\"id\":\"p1114\",\"attributes\":{\"months\":[0,2,4,6,8,10]}},{\"type\":\"object\",\"name\":\"MonthsTicker\",\"id\":\"p1115\",\"attributes\":{\"months\":[0,4,8]}},{\"type\":\"object\",\"name\":\"MonthsTicker\",\"id\":\"p1116\",\"attributes\":{\"months\":[0,6]}},{\"type\":\"object\",\"name\":\"YearsTicker\",\"id\":\"p1117\"}]}},\"formatter\":{\"type\":\"object\",\"name\":\"DatetimeTickFormatter\",\"id\":\"p1103\"},\"major_label_policy\":{\"type\":\"object\",\"name\":\"AllLabels\",\"id\":\"p1104\"}}}],\"center\":[{\"type\":\"object\",\"name\":\"Grid\",\"id\":\"p1144\",\"attributes\":{\"axis\":{\"id\":\"p1102\"}}},{\"type\":\"object\",\"name\":\"Grid\",\"id\":\"p1151\",\"attributes\":{\"dimension\":1,\"axis\":{\"id\":\"p1145\"}}},{\"type\":\"object\",\"name\":\"Legend\",\"id\":\"p1396\",\"attributes\":{\"background_fill_alpha\":0,\"label_text_font_size\":\"8pt\",\"items\":[{\"type\":\"object\",\"name\":\"LegendItem\",\"id\":\"p1397\",\"attributes\":{\"label\":{\"type\":\"value\",\"value\":\"government_bond_yield_sixm\"},\"renderers\":[{\"id\":\"p1393\"}]}},{\"type\":\"object\",\"name\":\"LegendItem\",\"id\":\"p1410\",\"attributes\":{\"label\":{\"type\":\"value\",\"value\":\"government_bond_yield_fivey\"},\"renderers\":[{\"id\":\"p1407\"}]}},{\"type\":\"object\",\"name\":\"LegendItem\",\"id\":\"p1423\",\"attributes\":{\"label\":{\"type\":\"value\",\"value\":\"government_bond_yield_teny\"},\"renderers\":[{\"id\":\"p1420\"}]}}]}}]}}]}},{\"type\":\"object\",\"name\":\"Row\",\"id\":\"p1485\",\"attributes\":{\"children\":[{\"type\":\"object\",\"name\":\"Figure\",\"id\":\"p1167\",\"attributes\":{\"width\":500,\"height\":400,\"x_range\":{\"id\":\"p1004\"},\"y_range\":{\"type\":\"object\",\"name\":\"DataRange1d\",\"id\":\"p1169\"},\"x_scale\":{\"type\":\"object\",\"name\":\"LinearScale\",\"id\":\"p1180\"},\"y_scale\":{\"type\":\"object\",\"name\":\"LinearScale\",\"id\":\"p1182\"},\"title\":{\"type\":\"object\",\"name\":\"Title\",\"id\":\"p1170\",\"attributes\":{\"text\":\"Inflation\"}},\"renderers\":[{\"type\":\"object\",\"name\":\"GlyphRenderer\",\"id\":\"p1433\",\"attributes\":{\"data_source\":{\"type\":\"object\",\"name\":\"ColumnDataSource\",\"id\":\"p1424\",\"attributes\":{\"selected\":{\"type\":\"object\",\"name\":\"Selection\",\"id\":\"p1426\",\"attributes\":{\"indices\":[],\"line_indices\":[]}},\"selection_policy\":{\"type\":\"object\",\"name\":\"UnionRenderers\",\"id\":\"p1425\"},\"data\":{\"type\":\"map\",\"entries\":[[\"x\",{\"type\":\"ndarray\",\"array\":{\"type\":\"bytes\",\"data\":\"AABARxh7ckIAAIByYphyQgAAgAP/tXJCAACAlJvTckIAAABak/ByQgAAQIXdDXNCAABAFnorc0IAAECnFklzQgAAgNJgZnNCAADA/aqDc0IAAMCOR6FzQgAAwB/kvnNCAABA5dvbc0IAAIAQJvlzQgAAgKHCFnRCAACAMl80dEIAAAD4VlF0QgAAQCOhbnRCAABAtD2MdEIAAEBF2ql0QgAAwArSxnRCAAAANhzkdEIAAADHuAF1QgAAAFhVH3VCAABAg588dUIAAICu6Vl1QgAAgD+Gd3VCAACA0CKVdUIAAACWGrJ1QgAAQMFkz3VCAABAUgHtdUIAAEDjnQp2QgAAwKiVJ3ZCAAAA1N9EdkIAAABlfGJ2QgAAAPYYgHZCAACAuxCddkIAAMDmWrp2QgAAwHf313ZCAADACJT1dkIAAAA03hJ3QgAAQF8oMHdCAABA8MRNd0IAAECBYWt3Qg==\"},\"shape\":[44],\"dtype\":\"float64\",\"order\":\"little\"}],[\"y\",{\"type\":\"ndarray\",\"array\":{\"type\":\"bytes\",\"data\":\"T7kipmNdZj/yrma4T9RqPzAGYpyaMmc/rZMKuguYfD9rSJyrK4N9Pwaij3cqpnY/zYYrg7klaj+0j7MFDYdiP5GGXtVwnmU/asko0OQfcj/FftPyUI52PyPB8aIRKGw/4wMVrXqTcT/AB/aGfmVuP2YIoZRH0G8/HgRZH4nwdT8wsnf1XRBwP2Q0oWABSW0/U5EIzhz4aD/KSkok8P1tPyGjctJ003I/oKy0ocd7cz/wMpK1Gq9nP/u0iDJWgGg/r41TNZEybz89CyMk9qRzP2EnyULqB3Y/JIfHkonAdD9vEo0LcNh5P9txAfXt83U/4V/uIS+xdj9m9WFHI3VxP68BAG0SF3I/Wwsqcfpzaj+QHAUWHBNzP9S+udrzQ3M/Yr41riafdz+8FeDyyn9fPxibBOFy/nM/ho2Zo7YIZD/095xM93JmPxM7jaLENUq/bA6UqiM7Or9a4+3WR8ZkPw==\"},\"shape\":[44],\"dtype\":\"float64\",\"order\":\"little\"}],[\"label\",[\"core_inflation\",\"core_inflation\",\"core_inflation\",\"core_inflation\",\"core_inflation\",\"core_inflation\",\"core_inflation\",\"core_inflation\",\"core_inflation\",\"core_inflation\",\"core_inflation\",\"core_inflation\",\"core_inflation\",\"core_inflation\",\"core_inflation\",\"core_inflation\",\"core_inflation\",\"core_inflation\",\"core_inflation\",\"core_inflation\",\"core_inflation\",\"core_inflation\",\"core_inflation\",\"core_inflation\",\"core_inflation\",\"core_inflation\",\"core_inflation\",\"core_inflation\",\"core_inflation\",\"core_inflation\",\"core_inflation\",\"core_inflation\",\"core_inflation\",\"core_inflation\",\"core_inflation\",\"core_inflation\",\"core_inflation\",\"core_inflation\",\"core_inflation\",\"core_inflation\",\"core_inflation\",\"core_inflation\",\"core_inflation\",\"core_inflation\"]]]}}},\"view\":{\"type\":\"object\",\"name\":\"CDSView\",\"id\":\"p1434\",\"attributes\":{\"filter\":{\"type\":\"object\",\"name\":\"AllIndices\",\"id\":\"p1435\"}}},\"glyph\":{\"type\":\"object\",\"name\":\"Line\",\"id\":\"p1430\",\"attributes\":{\"x\":{\"type\":\"field\",\"field\":\"x\"},\"y\":{\"type\":\"field\",\"field\":\"y\"},\"line_color\":\"#c5b0d5\"}},\"nonselection_glyph\":{\"type\":\"object\",\"name\":\"Line\",\"id\":\"p1431\",\"attributes\":{\"x\":{\"type\":\"field\",\"field\":\"x\"},\"y\":{\"type\":\"field\",\"field\":\"y\"},\"line_color\":\"#c5b0d5\",\"line_alpha\":0.1}},\"muted_glyph\":{\"type\":\"object\",\"name\":\"Line\",\"id\":\"p1432\",\"attributes\":{\"x\":{\"type\":\"field\",\"field\":\"x\"},\"y\":{\"type\":\"field\",\"field\":\"y\"},\"line_color\":\"#c5b0d5\",\"line_alpha\":0.2}}}},{\"type\":\"object\",\"name\":\"GlyphRenderer\",\"id\":\"p1447\",\"attributes\":{\"data_source\":{\"type\":\"object\",\"name\":\"ColumnDataSource\",\"id\":\"p1438\",\"attributes\":{\"selected\":{\"type\":\"object\",\"name\":\"Selection\",\"id\":\"p1440\",\"attributes\":{\"indices\":[],\"line_indices\":[]}},\"selection_policy\":{\"type\":\"object\",\"name\":\"UnionRenderers\",\"id\":\"p1439\"},\"data\":{\"type\":\"map\",\"entries\":[[\"x\",{\"type\":\"ndarray\",\"array\":{\"type\":\"bytes\",\"data\":\"AABARxh7ckIAAIByYphyQgAAgAP/tXJCAACAlJvTckIAAABak/ByQgAAQIXdDXNCAABAFnorc0IAAECnFklzQgAAgNJgZnNCAADA/aqDc0IAAMCOR6FzQgAAwB/kvnNCAABA5dvbc0IAAIAQJvlzQgAAgKHCFnRCAACAMl80dEIAAAD4VlF0QgAAQCOhbnRCAABAtD2MdEIAAEBF2ql0QgAAwArSxnRCAAAANhzkdEIAAADHuAF1QgAAAFhVH3VCAABAg588dUIAAICu6Vl1QgAAgD+Gd3VCAACA0CKVdUIAAACWGrJ1QgAAQMFkz3VCAABAUgHtdUIAAEDjnQp2QgAAwKiVJ3ZCAAAA1N9EdkIAAABlfGJ2QgAAAPYYgHZCAACAuxCddkIAAMDmWrp2QgAAwHf313ZCAADACJT1dkIAAAA03hJ3QgAAQF8oMHdCAABA8MRNd0IAAECBYWt3Qg==\"},\"shape\":[44],\"dtype\":\"float64\",\"order\":\"little\"}],[\"y\",{\"type\":\"ndarray\",\"array\":{\"type\":\"bytes\",\"data\":\"mpBGygvfkz/FjdlkJ0lXv65dG+hpJHc/B1IzRm60lj+2W4PRQxeZPykhEqCOznU/fxaZeu2bhj8+vecPnkx0P1XUhxGmypA/mb1kuPR6cL9LsmfS8DhQP3S+bukh7nk/RPHntsqSlD/5m2ZJWf9xv7Ifk4WWdHQ/JGzZrFUKgT/SoQBXPU6LP1fim72q6XG/aq1muTpmbj9TAuorV/ptP/o1UNQcyYU/nxk5Xug9Zr++sWsIGb94P+zzPRwJZlA/7nhPc2cgkj+7AyFoRgppvybVDileh2U/cO1l43DrdT8NUxgSHSKDP9q6JJ+oZGi/J7hz5Z3FbT/ZFPv9glB7PwQac2hgT4k/WWntj7v2fL+j1CLkr9mBP8rGgXCwV3w/BiJxGW0lgz/lLf6vVIRVPxEHfeK7sIY/wCzW7tmNlD+1vfE0xhCRP9Endu1xZJS/C80er5B8eD+85c5v5q5gvw==\"},\"shape\":[44],\"dtype\":\"float64\",\"order\":\"little\"}],[\"label\",[\"headline_inflation\",\"headline_inflation\",\"headline_inflation\",\"headline_inflation\",\"headline_inflation\",\"headline_inflation\",\"headline_inflation\",\"headline_inflation\",\"headline_inflation\",\"headline_inflation\",\"headline_inflation\",\"headline_inflation\",\"headline_inflation\",\"headline_inflation\",\"headline_inflation\",\"headline_inflation\",\"headline_inflation\",\"headline_inflation\",\"headline_inflation\",\"headline_inflation\",\"headline_inflation\",\"headline_inflation\",\"headline_inflation\",\"headline_inflation\",\"headline_inflation\",\"headline_inflation\",\"headline_inflation\",\"headline_inflation\",\"headline_inflation\",\"headline_inflation\",\"headline_inflation\",\"headline_inflation\",\"headline_inflation\",\"headline_inflation\",\"headline_inflation\",\"headline_inflation\",\"headline_inflation\",\"headline_inflation\",\"headline_inflation\",\"headline_inflation\",\"headline_inflation\",\"headline_inflation\",\"headline_inflation\",\"headline_inflation\"]]]}}},\"view\":{\"type\":\"object\",\"name\":\"CDSView\",\"id\":\"p1448\",\"attributes\":{\"filter\":{\"type\":\"object\",\"name\":\"AllIndices\",\"id\":\"p1449\"}}},\"glyph\":{\"type\":\"object\",\"name\":\"Line\",\"id\":\"p1444\",\"attributes\":{\"x\":{\"type\":\"field\",\"field\":\"x\"},\"y\":{\"type\":\"field\",\"field\":\"y\"},\"line_color\":\"#8c564b\"}},\"nonselection_glyph\":{\"type\":\"object\",\"name\":\"Line\",\"id\":\"p1445\",\"attributes\":{\"x\":{\"type\":\"field\",\"field\":\"x\"},\"y\":{\"type\":\"field\",\"field\":\"y\"},\"line_color\":\"#8c564b\",\"line_alpha\":0.1}},\"muted_glyph\":{\"type\":\"object\",\"name\":\"Line\",\"id\":\"p1446\",\"attributes\":{\"x\":{\"type\":\"field\",\"field\":\"x\"},\"y\":{\"type\":\"field\",\"field\":\"y\"},\"line_color\":\"#8c564b\",\"line_alpha\":0.2}}}}],\"toolbar\":{\"type\":\"object\",\"name\":\"Toolbar\",\"id\":\"p1175\",\"attributes\":{\"tools\":[{\"type\":\"object\",\"name\":\"PanTool\",\"id\":\"p1234\"},{\"type\":\"object\",\"name\":\"WheelZoomTool\",\"id\":\"p1235\"},{\"type\":\"object\",\"name\":\"BoxZoomTool\",\"id\":\"p1236\",\"attributes\":{\"overlay\":{\"type\":\"object\",\"name\":\"BoxAnnotation\",\"id\":\"p1237\",\"attributes\":{\"syncable\":false,\"level\":\"overlay\",\"visible\":false,\"left_units\":\"canvas\",\"right_units\":\"canvas\",\"bottom_units\":\"canvas\",\"top_units\":\"canvas\",\"line_color\":\"black\",\"line_alpha\":1.0,\"line_width\":2,\"line_dash\":[4,4],\"fill_color\":\"lightgrey\",\"fill_alpha\":0.5}}}},{\"type\":\"object\",\"name\":\"SaveTool\",\"id\":\"p1238\"},{\"type\":\"object\",\"name\":\"ResetTool\",\"id\":\"p1239\"},{\"type\":\"object\",\"name\":\"HelpTool\",\"id\":\"p1240\"},{\"id\":\"p1478\"}]}},\"left\":[{\"type\":\"object\",\"name\":\"LinearAxis\",\"id\":\"p1227\",\"attributes\":{\"ticker\":{\"type\":\"object\",\"name\":\"BasicTicker\",\"id\":\"p1230\",\"attributes\":{\"mantissas\":[1,2,5]}},\"formatter\":{\"type\":\"object\",\"name\":\"BasicTickFormatter\",\"id\":\"p1228\"},\"major_label_policy\":{\"type\":\"object\",\"name\":\"AllLabels\",\"id\":\"p1229\"}}}],\"below\":[{\"type\":\"object\",\"name\":\"DatetimeAxis\",\"id\":\"p1184\",\"attributes\":{\"ticker\":{\"type\":\"object\",\"name\":\"DatetimeTicker\",\"id\":\"p1187\",\"attributes\":{\"num_minor_ticks\":5,\"tickers\":[{\"type\":\"object\",\"name\":\"AdaptiveTicker\",\"id\":\"p1188\",\"attributes\":{\"num_minor_ticks\":0,\"mantissas\":[1,2,5],\"max_interval\":500.0}},{\"type\":\"object\",\"name\":\"AdaptiveTicker\",\"id\":\"p1189\",\"attributes\":{\"num_minor_ticks\":0,\"base\":60,\"mantissas\":[1,2,5,10,15,20,30],\"min_interval\":1000.0,\"max_interval\":1800000.0}},{\"type\":\"object\",\"name\":\"AdaptiveTicker\",\"id\":\"p1190\",\"attributes\":{\"num_minor_ticks\":0,\"base\":24,\"mantissas\":[1,2,4,6,8,12],\"min_interval\":3600000.0,\"max_interval\":43200000.0}},{\"type\":\"object\",\"name\":\"DaysTicker\",\"id\":\"p1191\",\"attributes\":{\"days\":[1,2,3,4,5,6,7,8,9,10,11,12,13,14,15,16,17,18,19,20,21,22,23,24,25,26,27,28,29,30,31]}},{\"type\":\"object\",\"name\":\"DaysTicker\",\"id\":\"p1192\",\"attributes\":{\"days\":[1,4,7,10,13,16,19,22,25,28]}},{\"type\":\"object\",\"name\":\"DaysTicker\",\"id\":\"p1193\",\"attributes\":{\"days\":[1,8,15,22]}},{\"type\":\"object\",\"name\":\"DaysTicker\",\"id\":\"p1194\",\"attributes\":{\"days\":[1,15]}},{\"type\":\"object\",\"name\":\"MonthsTicker\",\"id\":\"p1195\",\"attributes\":{\"months\":[0,1,2,3,4,5,6,7,8,9,10,11]}},{\"type\":\"object\",\"name\":\"MonthsTicker\",\"id\":\"p1196\",\"attributes\":{\"months\":[0,2,4,6,8,10]}},{\"type\":\"object\",\"name\":\"MonthsTicker\",\"id\":\"p1197\",\"attributes\":{\"months\":[0,4,8]}},{\"type\":\"object\",\"name\":\"MonthsTicker\",\"id\":\"p1198\",\"attributes\":{\"months\":[0,6]}},{\"type\":\"object\",\"name\":\"YearsTicker\",\"id\":\"p1199\"}]}},\"formatter\":{\"type\":\"object\",\"name\":\"DatetimeTickFormatter\",\"id\":\"p1185\"},\"major_label_policy\":{\"type\":\"object\",\"name\":\"AllLabels\",\"id\":\"p1186\"}}}],\"center\":[{\"type\":\"object\",\"name\":\"Grid\",\"id\":\"p1226\",\"attributes\":{\"axis\":{\"id\":\"p1184\"}}},{\"type\":\"object\",\"name\":\"Grid\",\"id\":\"p1233\",\"attributes\":{\"dimension\":1,\"axis\":{\"id\":\"p1227\"}}},{\"type\":\"object\",\"name\":\"Legend\",\"id\":\"p1436\",\"attributes\":{\"location\":\"top_center\",\"background_fill_alpha\":0,\"label_text_font_size\":\"8pt\",\"items\":[{\"type\":\"object\",\"name\":\"LegendItem\",\"id\":\"p1437\",\"attributes\":{\"label\":{\"type\":\"value\",\"value\":\"core_inflation\"},\"renderers\":[{\"id\":\"p1433\"}]}},{\"type\":\"object\",\"name\":\"LegendItem\",\"id\":\"p1450\",\"attributes\":{\"label\":{\"type\":\"value\",\"value\":\"headline_inflation\"},\"renderers\":[{\"id\":\"p1447\"}]}}]}}]}},{\"type\":\"object\",\"name\":\"Figure\",\"id\":\"p1249\",\"attributes\":{\"width\":500,\"height\":400,\"x_range\":{\"id\":\"p1004\"},\"y_range\":{\"type\":\"object\",\"name\":\"DataRange1d\",\"id\":\"p1251\"},\"x_scale\":{\"type\":\"object\",\"name\":\"LinearScale\",\"id\":\"p1262\"},\"y_scale\":{\"type\":\"object\",\"name\":\"LinearScale\",\"id\":\"p1264\"},\"title\":{\"type\":\"object\",\"name\":\"Title\",\"id\":\"p1252\",\"attributes\":{\"text\":\"CPI\"}},\"renderers\":[{\"type\":\"object\",\"name\":\"GlyphRenderer\",\"id\":\"p1460\",\"attributes\":{\"data_source\":{\"type\":\"object\",\"name\":\"ColumnDataSource\",\"id\":\"p1451\",\"attributes\":{\"selected\":{\"type\":\"object\",\"name\":\"Selection\",\"id\":\"p1453\",\"attributes\":{\"indices\":[],\"line_indices\":[]}},\"selection_policy\":{\"type\":\"object\",\"name\":\"UnionRenderers\",\"id\":\"p1452\"},\"data\":{\"type\":\"map\",\"entries\":[[\"x\",{\"type\":\"ndarray\",\"array\":{\"type\":\"bytes\",\"data\":\"AABARxh7ckIAAIByYphyQgAAgAP/tXJCAACAlJvTckIAAABak/ByQgAAQIXdDXNCAABAFnorc0IAAECnFklzQgAAgNJgZnNCAADA/aqDc0IAAMCOR6FzQgAAwB/kvnNCAABA5dvbc0IAAIAQJvlzQgAAgKHCFnRCAACAMl80dEIAAAD4VlF0QgAAQCOhbnRCAABAtD2MdEIAAEBF2ql0QgAAwArSxnRCAAAANhzkdEIAAADHuAF1QgAAAFhVH3VCAABAg588dUIAAICu6Vl1QgAAgD+Gd3VCAACA0CKVdUIAAACWGrJ1QgAAQMFkz3VCAABAUgHtdUIAAEDjnQp2QgAAwKiVJ3ZCAAAA1N9EdkIAAABlfGJ2QgAAAPYYgHZCAACAuxCddkIAAMDmWrp2QgAAwHf313ZCAADACJT1dkIAAAA03hJ3QgAAQF8oMHdCAABA8MRNd0IAAECBYWt3Qg==\"},\"shape\":[44],\"dtype\":\"float64\",\"order\":\"little\"}],[\"y\",{\"type\":\"ndarray\",\"array\":{\"type\":\"bytes\",\"data\":\"URvotIEeVUDOaQOdNjBVQF0s+cWSP1VAKL9Y8otlVUCbNtBpA41VQOxRuB6Fq1VAcKDTBjq9VUBnA5020MlVQIaIiIiI2FVA4XoUrkfxVUDOaQOdNhBWQNYGOm2gI1ZAjiW/WPI7VkATEREREVFWQKUNdNpAZ1ZAxJJfLPmFVkD/YskvlpxWQOF6FK5HsVZAZckvlvzCVkC4HoXrUdhWQDMzMzMz81ZAwVjyiyUPV0DOaQOdNiBXQFK4HoXrMVdAhoiIiIhIV0CF61G4HmVXQFNVVVVVhVdApHA9CtejV0A8baDTBspXQK2qqqqq6ldA/2LJL5YMWEAJOm2g0yZYQCAiIiIiQlhAmfxiyS9WWEAzMzMzM3NYQHE9CtejkFhAt4FOG+i0WEATEREREcFYQAAAAAAA4FhAXSz5xZLvWEApEREREQFZQI4lv1jy+1hAzC+W/GL5WECamZmZmQlZQA==\"},\"shape\":[44],\"dtype\":\"float64\",\"order\":\"little\"}],[\"label\",[\"core_CPI\",\"core_CPI\",\"core_CPI\",\"core_CPI\",\"core_CPI\",\"core_CPI\",\"core_CPI\",\"core_CPI\",\"core_CPI\",\"core_CPI\",\"core_CPI\",\"core_CPI\",\"core_CPI\",\"core_CPI\",\"core_CPI\",\"core_CPI\",\"core_CPI\",\"core_CPI\",\"core_CPI\",\"core_CPI\",\"core_CPI\",\"core_CPI\",\"core_CPI\",\"core_CPI\",\"core_CPI\",\"core_CPI\",\"core_CPI\",\"core_CPI\",\"core_CPI\",\"core_CPI\",\"core_CPI\",\"core_CPI\",\"core_CPI\",\"core_CPI\",\"core_CPI\",\"core_CPI\",\"core_CPI\",\"core_CPI\",\"core_CPI\",\"core_CPI\",\"core_CPI\",\"core_CPI\",\"core_CPI\",\"core_CPI\"]]]}}},\"view\":{\"type\":\"object\",\"name\":\"CDSView\",\"id\":\"p1461\",\"attributes\":{\"filter\":{\"type\":\"object\",\"name\":\"AllIndices\",\"id\":\"p1462\"}}},\"glyph\":{\"type\":\"object\",\"name\":\"Line\",\"id\":\"p1457\",\"attributes\":{\"x\":{\"type\":\"field\",\"field\":\"x\"},\"y\":{\"type\":\"field\",\"field\":\"y\"},\"line_color\":\"#e377c2\"}},\"nonselection_glyph\":{\"type\":\"object\",\"name\":\"Line\",\"id\":\"p1458\",\"attributes\":{\"x\":{\"type\":\"field\",\"field\":\"x\"},\"y\":{\"type\":\"field\",\"field\":\"y\"},\"line_color\":\"#e377c2\",\"line_alpha\":0.1}},\"muted_glyph\":{\"type\":\"object\",\"name\":\"Line\",\"id\":\"p1459\",\"attributes\":{\"x\":{\"type\":\"field\",\"field\":\"x\"},\"y\":{\"type\":\"field\",\"field\":\"y\"},\"line_color\":\"#e377c2\",\"line_alpha\":0.2}}}},{\"type\":\"object\",\"name\":\"GlyphRenderer\",\"id\":\"p1474\",\"attributes\":{\"data_source\":{\"type\":\"object\",\"name\":\"ColumnDataSource\",\"id\":\"p1465\",\"attributes\":{\"selected\":{\"type\":\"object\",\"name\":\"Selection\",\"id\":\"p1467\",\"attributes\":{\"indices\":[],\"line_indices\":[]}},\"selection_policy\":{\"type\":\"object\",\"name\":\"UnionRenderers\",\"id\":\"p1466\"},\"data\":{\"type\":\"map\",\"entries\":[[\"x\",{\"type\":\"ndarray\",\"array\":{\"type\":\"bytes\",\"data\":\"AABARxh7ckIAAIByYphyQgAAgAP/tXJCAACAlJvTckIAAABak/ByQgAAQIXdDXNCAABAFnorc0IAAECnFklzQgAAgNJgZnNCAADA/aqDc0IAAMCOR6FzQgAAwB/kvnNCAABA5dvbc0IAAIAQJvlzQgAAgKHCFnRCAACAMl80dEIAAAD4VlF0QgAAQCOhbnRCAABAtD2MdEIAAEBF2ql0QgAAwArSxnRCAAAANhzkdEIAAADHuAF1QgAAAFhVH3VCAABAg588dUIAAICu6Vl1QgAAgD+Gd3VCAACA0CKVdUIAAACWGrJ1QgAAQMFkz3VCAABAUgHtdUIAAEDjnQp2QgAAwKiVJ3ZCAAAA1N9EdkIAAABlfGJ2QgAAAPYYgHZCAACAuxCddkIAAMDmWrp2QgAAwHf313ZCAADACJT1dkIAAAA03hJ3QgAAQF8oMHdCAABA8MRNd0IAAECBYWt3Qg==\"},\"shape\":[44],\"dtype\":\"float64\",\"order\":\"little\"}],[\"y\",{\"type\":\"ndarray\",\"array\":{\"type\":\"bytes\",\"data\":\"zC+W/GJZU0D1iyW/WFJTQHyx5BdLblNA/2LJL5bcU0D3xZJfLFlUQLeBThvodFRAH4XrUbiuVEApXI/C9chUQM5pA502IFVA2ECnDXQKVUAylvxiyQ9VQFK4HoXrMVVA7e7u7u6eVUA00GkDnYZVQCAiIiIiolVAzmkDnTbQVUCtqqqqqhpWQFK4HoXrAVZACTptoNMWVkDsUbgehStWQBZLfrHkZ1ZAuB6F61FYVkB7FK5H4XpWQHE9CtejgFZANNBpA53mVkDiF0t+sdRWQHLaQKcN5FZAAZ020GkDV0DYQKcNdDpXQFvyiyW/KFdAfLHkF0s+V0DEkl8s+WVXQAAAAAAAsFdAhetRuB6FV0CamZmZmblXQNYGOm2g41dAzczMzMwcWEC3gU4b6CRYQMwvlvxiaVhACTptoNPmWEApEREREVFZQAAAAAAA0FhAxJJfLPn1WEApXI/C9ehYQA==\"},\"shape\":[44],\"dtype\":\"float64\",\"order\":\"little\"}],[\"label\",[\"headline_CPI\",\"headline_CPI\",\"headline_CPI\",\"headline_CPI\",\"headline_CPI\",\"headline_CPI\",\"headline_CPI\",\"headline_CPI\",\"headline_CPI\",\"headline_CPI\",\"headline_CPI\",\"headline_CPI\",\"headline_CPI\",\"headline_CPI\",\"headline_CPI\",\"headline_CPI\",\"headline_CPI\",\"headline_CPI\",\"headline_CPI\",\"headline_CPI\",\"headline_CPI\",\"headline_CPI\",\"headline_CPI\",\"headline_CPI\",\"headline_CPI\",\"headline_CPI\",\"headline_CPI\",\"headline_CPI\",\"headline_CPI\",\"headline_CPI\",\"headline_CPI\",\"headline_CPI\",\"headline_CPI\",\"headline_CPI\",\"headline_CPI\",\"headline_CPI\",\"headline_CPI\",\"headline_CPI\",\"headline_CPI\",\"headline_CPI\",\"headline_CPI\",\"headline_CPI\",\"headline_CPI\",\"headline_CPI\"]]]}}},\"view\":{\"type\":\"object\",\"name\":\"CDSView\",\"id\":\"p1475\",\"attributes\":{\"filter\":{\"type\":\"object\",\"name\":\"AllIndices\",\"id\":\"p1476\"}}},\"glyph\":{\"type\":\"object\",\"name\":\"Line\",\"id\":\"p1471\",\"attributes\":{\"x\":{\"type\":\"field\",\"field\":\"x\"},\"y\":{\"type\":\"field\",\"field\":\"y\"},\"line_color\":\"#f7b6d2\"}},\"nonselection_glyph\":{\"type\":\"object\",\"name\":\"Line\",\"id\":\"p1472\",\"attributes\":{\"x\":{\"type\":\"field\",\"field\":\"x\"},\"y\":{\"type\":\"field\",\"field\":\"y\"},\"line_color\":\"#f7b6d2\",\"line_alpha\":0.1}},\"muted_glyph\":{\"type\":\"object\",\"name\":\"Line\",\"id\":\"p1473\",\"attributes\":{\"x\":{\"type\":\"field\",\"field\":\"x\"},\"y\":{\"type\":\"field\",\"field\":\"y\"},\"line_color\":\"#f7b6d2\",\"line_alpha\":0.2}}}}],\"toolbar\":{\"type\":\"object\",\"name\":\"Toolbar\",\"id\":\"p1257\",\"attributes\":{\"tools\":[{\"type\":\"object\",\"name\":\"PanTool\",\"id\":\"p1316\"},{\"type\":\"object\",\"name\":\"WheelZoomTool\",\"id\":\"p1317\"},{\"type\":\"object\",\"name\":\"BoxZoomTool\",\"id\":\"p1318\",\"attributes\":{\"overlay\":{\"type\":\"object\",\"name\":\"BoxAnnotation\",\"id\":\"p1319\",\"attributes\":{\"syncable\":false,\"level\":\"overlay\",\"visible\":false,\"left_units\":\"canvas\",\"right_units\":\"canvas\",\"bottom_units\":\"canvas\",\"top_units\":\"canvas\",\"line_color\":\"black\",\"line_alpha\":1.0,\"line_width\":2,\"line_dash\":[4,4],\"fill_color\":\"lightgrey\",\"fill_alpha\":0.5}}}},{\"type\":\"object\",\"name\":\"SaveTool\",\"id\":\"p1320\"},{\"type\":\"object\",\"name\":\"ResetTool\",\"id\":\"p1321\"},{\"type\":\"object\",\"name\":\"HelpTool\",\"id\":\"p1322\"},{\"id\":\"p1478\"}]}},\"left\":[{\"type\":\"object\",\"name\":\"LinearAxis\",\"id\":\"p1309\",\"attributes\":{\"ticker\":{\"type\":\"object\",\"name\":\"BasicTicker\",\"id\":\"p1312\",\"attributes\":{\"mantissas\":[1,2,5]}},\"formatter\":{\"type\":\"object\",\"name\":\"BasicTickFormatter\",\"id\":\"p1310\"},\"major_label_policy\":{\"type\":\"object\",\"name\":\"AllLabels\",\"id\":\"p1311\"}}}],\"below\":[{\"type\":\"object\",\"name\":\"DatetimeAxis\",\"id\":\"p1266\",\"attributes\":{\"ticker\":{\"type\":\"object\",\"name\":\"DatetimeTicker\",\"id\":\"p1269\",\"attributes\":{\"num_minor_ticks\":5,\"tickers\":[{\"type\":\"object\",\"name\":\"AdaptiveTicker\",\"id\":\"p1270\",\"attributes\":{\"num_minor_ticks\":0,\"mantissas\":[1,2,5],\"max_interval\":500.0}},{\"type\":\"object\",\"name\":\"AdaptiveTicker\",\"id\":\"p1271\",\"attributes\":{\"num_minor_ticks\":0,\"base\":60,\"mantissas\":[1,2,5,10,15,20,30],\"min_interval\":1000.0,\"max_interval\":1800000.0}},{\"type\":\"object\",\"name\":\"AdaptiveTicker\",\"id\":\"p1272\",\"attributes\":{\"num_minor_ticks\":0,\"base\":24,\"mantissas\":[1,2,4,6,8,12],\"min_interval\":3600000.0,\"max_interval\":43200000.0}},{\"type\":\"object\",\"name\":\"DaysTicker\",\"id\":\"p1273\",\"attributes\":{\"days\":[1,2,3,4,5,6,7,8,9,10,11,12,13,14,15,16,17,18,19,20,21,22,23,24,25,26,27,28,29,30,31]}},{\"type\":\"object\",\"name\":\"DaysTicker\",\"id\":\"p1274\",\"attributes\":{\"days\":[1,4,7,10,13,16,19,22,25,28]}},{\"type\":\"object\",\"name\":\"DaysTicker\",\"id\":\"p1275\",\"attributes\":{\"days\":[1,8,15,22]}},{\"type\":\"object\",\"name\":\"DaysTicker\",\"id\":\"p1276\",\"attributes\":{\"days\":[1,15]}},{\"type\":\"object\",\"name\":\"MonthsTicker\",\"id\":\"p1277\",\"attributes\":{\"months\":[0,1,2,3,4,5,6,7,8,9,10,11]}},{\"type\":\"object\",\"name\":\"MonthsTicker\",\"id\":\"p1278\",\"attributes\":{\"months\":[0,2,4,6,8,10]}},{\"type\":\"object\",\"name\":\"MonthsTicker\",\"id\":\"p1279\",\"attributes\":{\"months\":[0,4,8]}},{\"type\":\"object\",\"name\":\"MonthsTicker\",\"id\":\"p1280\",\"attributes\":{\"months\":[0,6]}},{\"type\":\"object\",\"name\":\"YearsTicker\",\"id\":\"p1281\"}]}},\"formatter\":{\"type\":\"object\",\"name\":\"DatetimeTickFormatter\",\"id\":\"p1267\"},\"major_label_policy\":{\"type\":\"object\",\"name\":\"AllLabels\",\"id\":\"p1268\"}}}],\"center\":[{\"type\":\"object\",\"name\":\"Grid\",\"id\":\"p1308\",\"attributes\":{\"axis\":{\"id\":\"p1266\"}}},{\"type\":\"object\",\"name\":\"Grid\",\"id\":\"p1315\",\"attributes\":{\"dimension\":1,\"axis\":{\"id\":\"p1309\"}}},{\"type\":\"object\",\"name\":\"Legend\",\"id\":\"p1463\",\"attributes\":{\"location\":\"top_left\",\"background_fill_alpha\":0,\"label_text_font_size\":\"8pt\",\"items\":[{\"type\":\"object\",\"name\":\"LegendItem\",\"id\":\"p1464\",\"attributes\":{\"label\":{\"type\":\"value\",\"value\":\"core_CPI\"},\"renderers\":[{\"id\":\"p1460\"}]}},{\"type\":\"object\",\"name\":\"LegendItem\",\"id\":\"p1477\",\"attributes\":{\"label\":{\"type\":\"value\",\"value\":\"headline_CPI\"},\"renderers\":[{\"id\":\"p1474\"}]}}]}}]}}]}}]}}],\"callbacks\":{\"type\":\"map\"}}};\n",
       "  const render_items = [{\"docid\":\"ff2a6bb8-89c7-4686-b696-6a664d1bc8e7\",\"roots\":{\"p1486\":\"70433203-865a-4540-ac65-3efe0fb5a916\"},\"root_ids\":[\"p1486\"]}];\n",
       "  root.Bokeh.embed.embed_items_notebook(docs_json, render_items);\n",
       "  }\n",
       "  if (root.Bokeh !== undefined) {\n",
       "    embed_document(root);\n",
       "  } else {\n",
       "    let attempts = 0;\n",
       "    const timer = setInterval(function(root) {\n",
       "      if (root.Bokeh !== undefined) {\n",
       "        clearInterval(timer);\n",
       "        embed_document(root);\n",
       "      } else {\n",
       "        attempts++;\n",
       "        if (attempts > 100) {\n",
       "          clearInterval(timer);\n",
       "          console.log(\"Bokeh: ERROR: Unable to run BokehJS code because BokehJS library is missing\");\n",
       "        }\n",
       "      }\n",
       "    }, 10, root)\n",
       "  }\n",
       "})(window);"
      ],
      "application/vnd.bokehjs_exec.v0+json": ""
     },
     "metadata": {
      "application/vnd.bokehjs_exec.v0+json": {
       "id": "p1486"
      }
     },
     "output_type": "display_data"
    }
   ],
   "source": [
    "# Full palette\n",
    "full_palette = list(d3['Category20'][16])\n",
    "\n",
    "# Divide the palette into four segments\n",
    "palette_segment_size = len(full_palette) // 4\n",
    "palettes = [full_palette[i:i + palette_segment_size] for i in range(0, len(full_palette), palette_segment_size)]\n",
    "\n",
    "# Assign each segment to a figure\n",
    "p1_colors = palettes[0]\n",
    "p2_colors = palettes[1]\n",
    "p3_colors = palettes[2]\n",
    "p4_colors = palettes[3]\n",
    "\n",
    "# Initialize four figures and connect the x axises\n",
    "p1 = figure(width=500, height=400, x_axis_type=\"datetime\", title=\"Asset Prices 1\")\n",
    "p2 = figure(width=500, height=400, x_axis_type=\"datetime\", title=\"Asset Prices 2\", x_range=p1.x_range)\n",
    "p3 = figure(width=500, height=400, x_axis_type=\"datetime\", title=\"Inflation\", x_range=p1.x_range)\n",
    "p4 = figure(width=500, height=400, x_axis_type=\"datetime\", title=\"CPI\", x_range=p1.x_range)\n",
    "\n",
    "# Add lines for assets\n",
    "for i, col in enumerate(['House_price', 'Shanghai_stock_index', 'Gold_price', 'Fixed_deposit_rate']):\n",
    "    source = ColumnDataSource(data={\n",
    "        'x': df_asset['Time'],\n",
    "        'y': df_asset[col],\n",
    "        'label': [col] * len(df_asset)  # Repeat the column name to match the length of the data\n",
    "    })\n",
    "    p1.line('x', 'y', source=source, color=p1_colors[i % len(p1_colors)], legend_label=col)\n",
    "\n",
    "for i, col in enumerate(['government_bond_yield_sixm', 'government_bond_yield_fivey', 'government_bond_yield_teny']):\n",
    "    source = ColumnDataSource(data={\n",
    "        'x': df_asset['Time'],\n",
    "        'y': df_asset[col],\n",
    "        'label': [col] * len(df_asset)  # Repeat the column name to match the length of the data\n",
    "    })\n",
    "    p2.line('x', 'y', source=source, color=p2_colors[i % len(p2_colors)], legend_label=col)\n",
    "\n",
    "# Add lines for inflation indicators\n",
    "for i, col in enumerate(['core_inflation', 'headline_inflation']):\n",
    "    source = ColumnDataSource(data={\n",
    "        'x': df_inflation['Time'],\n",
    "        'y': df_inflation[col],\n",
    "        'label': [col] * len(df_inflation)  # Repeat the column name to match the length of the data\n",
    "    })\n",
    "    p3.line('x', 'y', source=source, color=p3_colors[i + 1 % len(p3_colors)], legend_label=col)\n",
    "\n",
    "for i, col in enumerate(['core_CPI', 'headline_CPI']):\n",
    "    source = ColumnDataSource(data={\n",
    "        'x': df_inflation['Time'],\n",
    "        'y': df_inflation[col],\n",
    "        'label': [col] * len(df_inflation)  # Repeat the column name to match the length of the data\n",
    "    })\n",
    "    p4.line('x', 'y', source=source, color=p4_colors[i % len(p4_colors)], legend_label=col)\n",
    "\n",
    "# Add HoverTool\n",
    "hover = HoverTool(tooltips=[(\"Label\", \"@label\"), (\"Time\", \"@x{%F}\"), (\"Value\", \"@y\")], formatters={'@x': 'datetime'})\n",
    "p1.add_tools(hover)\n",
    "p2.add_tools(hover)\n",
    "p3.add_tools(hover)\n",
    "p4.add_tools(hover)\n",
    "\n",
    "# Adjust the legends\n",
    "p1.legend.location = \"top_right\"\n",
    "p3.legend.location = \"top_center\"\n",
    "p4.legend.location = \"top_left\"\n",
    "p1.legend.background_fill_alpha = 0\n",
    "p2.legend.background_fill_alpha = 0\n",
    "p3.legend.background_fill_alpha = 0\n",
    "p4.legend.background_fill_alpha = 0\n",
    "p1.legend.label_text_font_size = \"8pt\"\n",
    "p2.legend.label_text_font_size = \"8pt\"\n",
    "p3.legend.label_text_font_size = \"8pt\"\n",
    "p4.legend.label_text_font_size = \"8pt\"\n",
    "\n",
    "# Give a markup instruction\n",
    "instruction = Div(text=\"\"\"\n",
    "    <p style='background-color: #ADD8E6; padding: 10px; font-size: 16px;'><b>Instructions:</b> Hover over the plot to see data values. Use the toolbar to pan, zoom, and reset.<br>The four charts are connected, zoom in on one, the others will adjust accordingly.</p>\n",
    "\"\"\", width=800, align=\"center\", margin=10, )\n",
    "\n",
    "# Layout\n",
    "p = column(instruction, row(p1, p2), row(p3, p4))\n",
    "\n",
    "show(p)"
   ]
  },
  {
   "cell_type": "markdown",
   "id": "9866e29daba200aa",
   "metadata": {
    "collapsed": false,
    "jupyter": {
     "outputs_hidden": false
    }
   },
   "source": [
    "## **Percentage Change in All Assets And Inflation Indicators**\n",
    "- With \"All asset\"/\"All inflation\" tag, you can browse through all percentage change in bar chart, with nested coordinates, you can compare all the assets/inflation indicators within a specific quarter in a year\n",
    "- With \"All asset in lines\"/\"All inflation in lines\" tag, the line charts are shown comparatively, you can get the trend of percentage change over time\n",
    "- With specific tags in assets/inflation indicators, a histogram is shown"
   ]
  },
  {
   "cell_type": "code",
   "execution_count": 5,
   "id": "1f1505026b4f3ea1",
   "metadata": {
    "collapsed": false,
    "jupyter": {
     "outputs_hidden": false
    }
   },
   "outputs": [],
   "source": [
    "years = sorted(df_asset['Year'].unique().tolist())\n",
    "quarters = sorted(df_asset['Quarter'].unique().tolist())"
   ]
  },
  {
   "cell_type": "code",
   "execution_count": 6,
   "id": "9800003b72256be8",
   "metadata": {
    "collapsed": false,
    "jupyter": {
     "outputs_hidden": false
    }
   },
   "outputs": [],
   "source": [
    "select_pct_tag = 'All asset'\n",
    "select_inflation_tag = 'All inflation'\n",
    "asset_pct = pct_asset.drop(columns=['Time','Year','Quarter']).columns.tolist()\n",
    "inflation_pct = pct_inflation.drop(columns=['Time','Year','Quarter']).columns.tolist()"
   ]
  },
  {
   "cell_type": "code",
   "execution_count": 7,
   "id": "d8064f0de4cac6c2",
   "metadata": {
    "collapsed": false,
    "jupyter": {
     "outputs_hidden": false
    }
   },
   "outputs": [],
   "source": [
    "# Function to select N equally spaced colors from a palette\n",
    "def select_n_colors(palette, n):\n",
    "    indices = np.linspace(0, len(palette) - 1, n, dtype=int)\n",
    "    return [palette[i] for i in indices]\n",
    "\n",
    "# Select 10 equally spaced colors from the Turbo palette\n",
    "#palette = select_n_colors(Turbo256, 10)\n",
    "\n",
    "palette = list(tol['TolRainbow'][14])\n",
    "all_labels = sorted(set(inflation_pct) | set(asset_pct))\n",
    "color_mapping = {label: palette[i % len(palette)] for i, label in enumerate(all_labels)}"
   ]
  },
  {
   "cell_type": "code",
   "execution_count": 8,
   "id": "91a635e1956f3752",
   "metadata": {
    "collapsed": false,
    "jupyter": {
     "outputs_hidden": false
    }
   },
   "outputs": [],
   "source": [
    "def data_prepare_asset(select_tag):\n",
    "    asset = []\n",
    "    if select_tag == 'All asset':\n",
    "        asset = asset_pct\n",
    "    else:\n",
    "        asset = [select_tag]\n",
    "    data = pct_asset.pivot_table(\n",
    "        values=asset,\n",
    "        index=['Year', 'Quarter']\n",
    "    )\n",
    "    \n",
    "    x_range = FactorRange(factors=[(str(year), quarter, item) for year in years for quarter in quarters for item in asset])\n",
    "    \n",
    "    x_labels = [(str(year), quarter, item) for year in years for quarter in quarters for item in asset]\n",
    "     \n",
    "    return data, x_labels, x_range"
   ]
  },
  {
   "cell_type": "code",
   "execution_count": 9,
   "id": "714e019ff6f0011c",
   "metadata": {
    "collapsed": false,
    "jupyter": {
     "outputs_hidden": false
    }
   },
   "outputs": [],
   "source": [
    "def data_prepare_inflation(select_tag):\n",
    "    asset = []\n",
    "    if select_tag == 'All inflation':\n",
    "        asset = inflation_pct\n",
    "    else:\n",
    "        asset = [select_tag]\n",
    "    data = pct_inflation.pivot_table(\n",
    "        values=asset,\n",
    "        index=['Year', 'Quarter']\n",
    "    )\n",
    "    \n",
    "    x_range = FactorRange(factors=[(str(year), quarter, item) for year in years for quarter in quarters for item in asset])\n",
    "    \n",
    "    x_labels = [(str(year), quarter, item) for year in years for quarter in quarters for item in asset]\n",
    "     \n",
    "    return data, x_labels, x_range"
   ]
  },
  {
   "cell_type": "code",
   "execution_count": 10,
   "id": "f9f561012ccdef4a",
   "metadata": {
    "collapsed": false,
    "jupyter": {
     "outputs_hidden": false
    }
   },
   "outputs": [],
   "source": [
    "def create_source(data, x_labels):\n",
    "    \n",
    "    y = data.values.flatten().tolist()\n",
    "    \n",
    "    labels = data.columns.tolist() * len(data)\n",
    "    \n",
    "    colors = [color_mapping[label] for label in labels]\n",
    "    \n",
    "    source = dict(\n",
    "        x_labels=x_labels,\n",
    "        y=y,\n",
    "        label=labels,\n",
    "        colors=colors,\n",
    "        Year=[label[0] for label in x_labels],\n",
    "        Quarter=[label[1] for label in x_labels]\n",
    "    )\n",
    "    \n",
    "    return ColumnDataSource(source)"
   ]
  },
  {
   "cell_type": "code",
   "execution_count": 11,
   "id": "74e641d739853222",
   "metadata": {
    "collapsed": false,
    "jupyter": {
     "outputs_hidden": false
    }
   },
   "outputs": [],
   "source": [
    "def draw_bar_chart(source, x_range):\n",
    "    \n",
    "    p = figure(\n",
    "        \n",
    "        x_range = x_range,\n",
    "        title = 'Percentage Change',\n",
    "        tools='pan,wheel_zoom,box_zoom,reset,save',\n",
    "        width = 1000, \n",
    "        height = 500\n",
    "    )\n",
    "    \n",
    "    p.xgrid.grid_line_color = None\n",
    "    \n",
    "    p.x_range.range_padding = 0.1\n",
    "    \n",
    "    p.xaxis.major_label_text_font_size = '0px'\n",
    "    \n",
    "    p.xaxis.major_tick_line_color = None\n",
    "\n",
    "    p.xaxis.axis_label = 'Datetime in year and quarter'\n",
    "    \n",
    "    p.yaxis.axis_label = 'Percentage Change (%)'\n",
    "    \n",
    "    p.yaxis.formatter = NumeralTickFormatter(format='0,0')\n",
    "    \n",
    "    vbar = p.vbar(\n",
    "        x = 'x_labels',\n",
    "        top = 'y',\n",
    "        width = 0.9,\n",
    "        source = source,\n",
    "        \n",
    "        legend_group = 'label',\n",
    "        line_color = None,\n",
    "        \n",
    "        fill_color='colors'\n",
    "    )\n",
    "\n",
    "        \n",
    "    p.add_tools(HoverTool(tooltips=[\n",
    "            ('Year', '@Year'),\n",
    "            ('Quarter', '@Quarter'),\n",
    "            ('Asset', '@label'),\n",
    "            ('pct value', '@y{0,0.00}')\n",
    "        ]))\n",
    "    \n",
    "    p.legend.label_text_font_size = '8pt'\n",
    "    p.legend.label_height = 15\n",
    "    p.legend.glyph_height = 10\n",
    "    p.legend.glyph_width = 10\n",
    "    p.legend.orientation = 'vertical'\n",
    "    p.legend.location = 'top_right'\n",
    "    p.legend.background_fill_alpha = 0\n",
    "\n",
    "    \n",
    "    p.output_backend = \"svg\"\n",
    "    \n",
    "    return p"
   ]
  },
  {
   "cell_type": "code",
   "execution_count": 12,
   "id": "d50edf910df05913",
   "metadata": {
    "collapsed": false,
    "jupyter": {
     "outputs_hidden": false
    }
   },
   "outputs": [],
   "source": [
    "def draw_line_chart(tag):\n",
    "\n",
    "    p = figure(\n",
    "        title = 'Percentage Change in line charts',\n",
    "        tools='pan,wheel_zoom,box_zoom,reset,save',\n",
    "        x_axis_type=\"datetime\",\n",
    "        width = 1000, \n",
    "        height = 500\n",
    "    )\n",
    "    \n",
    "    p.xgrid.grid_line_color = None\n",
    "    \n",
    "    p.x_range.range_padding = 0.1\n",
    "    \n",
    "    p.xaxis.axis_label = 'Date'\n",
    "    p.yaxis.axis_label = 'Percentage Change (%)'\n",
    "\n",
    "    p.xaxis.formatter = DatetimeTickFormatter(months=\"%m/%Y\")\n",
    "    p.yaxis.formatter = NumeralTickFormatter(format='0,0')\n",
    "\n",
    "    dt = pd.DataFrame()\n",
    "    columns = []\n",
    "    if tag == 'All assets in lines':\n",
    "        dt = pct_asset.drop(columns=['Year','Quarter']).copy()\n",
    "        columns = asset_pct\n",
    "    if tag == 'All inflations in lines':\n",
    "        dt = pct_inflation.drop(columns=['Year','Quarter']).copy()\n",
    "        columns = inflation_pct\n",
    "\n",
    "    palettes = list(tol['Bright'][7])\n",
    "    \n",
    "    for i, col in enumerate(columns): \n",
    "        source = ColumnDataSource(data={\n",
    "            'x': dt['Time'],\n",
    "            'y': dt[col],\n",
    "            'label': [col] * len(dt)\n",
    "        })\n",
    "    \n",
    "        p.line('x', 'y', source=source, color=palettes[i % len(palettes)], legend_label=col, line_width=1.5)\n",
    "\n",
    "\n",
    "    p.add_tools(HoverTool(tooltips=[\n",
    "            ('Asset', '@label'),\n",
    "            ('Time', '@x{%F}'),\n",
    "            ('percentage', '@y{0,0.00}')\n",
    "        ], formatters={'@x': 'datetime'}))\n",
    "    \n",
    "    p.legend.background_fill_alpha = 0\n",
    "    p.legend.label_text_font_size = \"8pt\"\n",
    "    #p.legend.location = \"top_center\"\n",
    "\n",
    "    return p"
   ]
  },
  {
   "cell_type": "code",
   "execution_count": 13,
   "id": "5b91f82dca9c88ed",
   "metadata": {
    "collapsed": false,
    "jupyter": {
     "outputs_hidden": false
    }
   },
   "outputs": [],
   "source": [
    "def plot(doc):\n",
    "    select_pct_tag = 'All asset'\n",
    "    select_inflation_tag = 'All inflation'\n",
    "    \n",
    "    data, x_labels, x_range = data_prepare_asset(select_pct_tag)\n",
    "    source = create_source(data, x_labels)\n",
    "    data2, x_labels2, x_range2 = data_prepare_inflation(select_inflation_tag)\n",
    "    source2 = create_source(data2, x_labels2)\n",
    "\n",
    "    p = draw_bar_chart(source, x_range)\n",
    "    h = draw_bar_chart(source2, x_range2)\n",
    "    \n",
    "    select_opt = ['All asset', 'All assets in lines'] + asset_pct\n",
    "    inflation_opt = ['All inflation', 'All inflations in lines'] + inflation_pct\n",
    "    select_asset = Select(title=\"Select Asset:\", value=select_opt[0], options=select_opt)\n",
    "    select_inflation = Select(title=\"Select Inflation:\", value=inflation_opt[0], options=inflation_opt)\n",
    "\n",
    "    def update_asset_chart(attr, old, new):\n",
    "        #global select_pct_tag, source\n",
    "        select_pct_tag = new\n",
    "        if new == 'All assets in lines':\n",
    "            layout1.children[1].children[0]  = draw_line_chart(new)\n",
    "        else:\n",
    "            data, labels, range = data_prepare_asset(select_pct_tag)\n",
    "            source = create_source(data, labels)\n",
    "            layout1.children[1].children[0] = draw_bar_chart(source, range)\n",
    "\n",
    "    def update_inflation_chart(attr, old, new):\n",
    "        #global select_inflation_tag, source2\n",
    "        select_inflation_tag = new\n",
    "        if new == 'All inflations in lines':\n",
    "            layout2.children[1].children[0]  = draw_line_chart(new)\n",
    "        else:\n",
    "            data2, labels2, range2 = data_prepare_inflation(select_inflation_tag)\n",
    "            source2 = create_source(data2, labels2)\n",
    "            layout2.children[1].children[0] = draw_bar_chart(source2, range2)\n",
    "    \n",
    "    select_asset.on_change('value', update_asset_chart)\n",
    "    select_inflation.on_change('value', update_inflation_chart)\n",
    "    \n",
    "    layout1 = column(column(select_asset), column(p))\n",
    "    layout2 = column(column(select_inflation), column(h))\n",
    "    \n",
    "    doc.add_root(column(layout1,layout2))"
   ]
  },
  {
   "cell_type": "code",
   "execution_count": 15,
   "id": "5916c9cae239db6a",
   "metadata": {
    "collapsed": false,
    "jupyter": {
     "outputs_hidden": false
    }
   },
   "outputs": [
    {
     "data": {
      "application/vnd.bokehjs_exec.v0+json": "",
      "text/html": [
       "<script id=\"p2640\">\n",
       "  (function() {\n",
       "    const xhr = new XMLHttpRequest()\n",
       "    xhr.responseType = 'blob';\n",
       "    xhr.open('GET', \"http://localhost:56258/autoload.js?bokeh-autoload-element=p2640&bokeh-absolute-url=http://localhost:56258&resources=none\", true);\n",
       "    xhr.onload = function (event) {\n",
       "      const script = document.createElement('script');\n",
       "      const src = URL.createObjectURL(event.target.response);\n",
       "      script.src = src;\n",
       "      document.body.appendChild(script);\n",
       "    };\n",
       "    xhr.send();\n",
       "  })();\n",
       "</script>"
      ]
     },
     "metadata": {
      "application/vnd.bokehjs_exec.v0+json": {
       "server_id": "a101b99bcff0497eb756a81104334d56"
      }
     },
     "output_type": "display_data"
    }
   ],
   "source": [
    "show(plot, notebook_url=\"http://localhost:8888\")"
   ]
  },
  {
   "cell_type": "markdown",
   "id": "cd16bc865066c10f",
   "metadata": {
    "collapsed": false,
    "jupyter": {
     "outputs_hidden": false
    }
   },
   "source": [
    "## **Proportion of Assets vs. Inflation Indicators Over Time**\n",
    "- With \"ALL\" tag with different inflation indicators, a collection of line charts is shown to compare among different assets\n",
    "- Feel free to adjust to any asset and match it with any inflation indicators to get a single line chart"
   ]
  },
  {
   "cell_type": "code",
   "execution_count": 16,
   "id": "8dc05c1302123339",
   "metadata": {
    "collapsed": false,
    "jupyter": {
     "outputs_hidden": false
    }
   },
   "outputs": [],
   "source": [
    "def create_source_proportion(asset_tag, inflation_tag):\n",
    "    merged_df = pd.merge(pct_asset, pct_inflation.drop(columns=['Time']), on=['Year', 'Quarter'], how='inner')\n",
    "    merged_df['Datetime'] = merged_df['Year'].astype(str) + merged_df['Quarter']\n",
    "    inf = merged_df[inflation_tag]\n",
    "    datas = []\n",
    "\n",
    "    if asset_tag == \"ALL\":\n",
    "        for i, asset in enumerate(asset_pct):\n",
    "            prop = merged_df[[asset, 'Datetime']].copy()\n",
    "            prop['Proportion'] = prop[asset] / inf\n",
    "            prop = prop.drop(columns=[asset])\n",
    "            prop['text'] = 'The proportion of all assets vs. '  + inflation_tag\n",
    "            prop['label'] = asset\n",
    "            datas.append(ColumnDataSource(prop))\n",
    "    else:\n",
    "        merged_df['Proportion'] = merged_df[asset_tag] / merged_df[inflation_tag].replace({0: np.nan})\n",
    "        data = merged_df[['Datetime', 'Proportion']].copy()\n",
    "        data['text'] = 'The proportion of ' + asset_tag + ' and ' + inflation_tag\n",
    "        data['label'] = asset_tag\n",
    "        datas.append(ColumnDataSource(data))\n",
    "\n",
    "    return datas"
   ]
  },
  {
   "cell_type": "code",
   "execution_count": 17,
   "id": "365c9bda1d42c051",
   "metadata": {
    "collapsed": false,
    "jupyter": {
     "outputs_hidden": false
    }
   },
   "outputs": [],
   "source": [
    "def draw_line_chart_prop(source):\n",
    "    p = figure(\n",
    "        width = 1000,\n",
    "        height = 600,\n",
    "        title = 'Proportion of Assets vs. Inflation Indicators',\n",
    "        x_range = source[0].data['Datetime'],\n",
    "        tools = \"pan,wheel_zoom,box_zoom,reset,save\",\n",
    "        toolbar_location = 'right'\n",
    "    )\n",
    "\n",
    "    p.xgrid.grid_line_color = None\n",
    "    p.xaxis.major_label_orientation = 'vertical'\n",
    "\n",
    "    palettes = list(tol['Light'][7])\n",
    "    \n",
    "    for i, src in enumerate(source):\n",
    "        p.line(\n",
    "            x = 'Datetime',\n",
    "            y = 'Proportion',\n",
    "            source = src,\n",
    "            color=palettes[i % len(palettes)],\n",
    "            legend_label = src.data['label'][0],\n",
    "            line_width=1.5\n",
    "        )\n",
    "        \n",
    "        label = Label(\n",
    "            x=700,\n",
    "            y=650,\n",
    "            x_units = 'screen',\n",
    "            y_units = 'screen',\n",
    "            text = src.data['text'][0],\n",
    "            text_font_size = '10pt',\n",
    "            text_font_style = 'bold', \n",
    "            text_color = 'black',\n",
    "            text_align = 'center'\n",
    "        )\n",
    "\n",
    "    p.add_tools(HoverTool(tooltips=[('Label', '@label'), ('Time', '@Datetime'), ('Proportion', '@Proportion')]))\n",
    "\n",
    "    p.xaxis.axis_label = 'Datetime'\n",
    "    p.yaxis.axis_label = 'Proportion'\n",
    "    p.legend.label_text_font_size = \"10pt\"\n",
    "    p.legend.location = \"bottom_left\"\n",
    "\n",
    "    p.add_layout(label)\n",
    "        \n",
    "    p.output_backend = 'svg'\n",
    "\n",
    "    return p"
   ]
  },
  {
   "cell_type": "code",
   "execution_count": 18,
   "id": "d3cffed278abdaf9",
   "metadata": {
    "collapsed": false,
    "jupyter": {
     "outputs_hidden": false
    }
   },
   "outputs": [],
   "source": [
    "def plot_proportion(doc):\n",
    "    asset_tag = 'ALL'\n",
    "    inflation_tag = 'Core_CPI_Change'\n",
    "\n",
    "    source = create_source_proportion(asset_tag, inflation_tag)\n",
    "\n",
    "    p = draw_line_chart_prop(source)\n",
    "\n",
    "    select_asset2 = Select(title=\"Select Asset:\", value=\"ALL\", options=asset_pct+[\"ALL\"])\n",
    "    select_inflation2 = Select(title=\"Select Inflation:\", value=inflation_pct[0], options=inflation_pct)\n",
    "\n",
    "    def update_asset(attr, old, new):\n",
    "        asset_tag = new\n",
    "        source = create_source_proportion(asset_tag, inflation_tag)\n",
    "        layout2.children[0] = draw_line_chart_prop(source)\n",
    "\n",
    "    def update_inflation(attr, old, new):\n",
    "        inflation_tag = new\n",
    "        source = create_source_proportion(asset_tag, inflation_tag)\n",
    "        layout2.children[0] = draw_line_chart_prop(source)\n",
    "\n",
    "    select_asset2.on_change('value', update_asset)\n",
    "    select_inflation2.on_change('value', update_inflation)\n",
    "\n",
    "    layout1 = row(select_asset2, select_inflation2)\n",
    "    layout2 = row(p)\n",
    "\n",
    "    doc.add_root(column(layout1, layout2))"
   ]
  },
  {
   "cell_type": "code",
   "execution_count": 20,
   "id": "ebef98b6f5b666e6",
   "metadata": {
    "collapsed": false,
    "jupyter": {
     "outputs_hidden": false
    }
   },
   "outputs": [
    {
     "data": {
      "application/vnd.bokehjs_exec.v0+json": "",
      "text/html": [
       "<script id=\"p2862\">\n",
       "  (function() {\n",
       "    const xhr = new XMLHttpRequest()\n",
       "    xhr.responseType = 'blob';\n",
       "    xhr.open('GET', \"http://localhost:56264/autoload.js?bokeh-autoload-element=p2862&bokeh-absolute-url=http://localhost:56264&resources=none\", true);\n",
       "    xhr.onload = function (event) {\n",
       "      const script = document.createElement('script');\n",
       "      const src = URL.createObjectURL(event.target.response);\n",
       "      script.src = src;\n",
       "      document.body.appendChild(script);\n",
       "    };\n",
       "    xhr.send();\n",
       "  })();\n",
       "</script>"
      ]
     },
     "metadata": {
      "application/vnd.bokehjs_exec.v0+json": {
       "server_id": "6bfc0bbdf0b14f29896a51d39c4a63f4"
      }
     },
     "output_type": "display_data"
    }
   ],
   "source": [
    "show(plot_proportion, notebook_url=\"http://localhost:8888\")"
   ]
  },
  {
   "cell_type": "code",
   "execution_count": null,
   "id": "59465cdf-cd81-484e-820f-cefbf3f91211",
   "metadata": {},
   "outputs": [],
   "source": []
  },
  {
   "cell_type": "code",
   "execution_count": null,
   "id": "dde21d31-44ea-49a7-a01a-5cfe2625144c",
   "metadata": {},
   "outputs": [],
   "source": []
  },
  {
   "cell_type": "code",
   "execution_count": null,
   "id": "44f62432-e64d-44fc-aa55-45d2e275b33d",
   "metadata": {},
   "outputs": [],
   "source": []
  }
 ],
 "metadata": {
  "kernelspec": {
   "display_name": "Python 3 (ipykernel)",
   "language": "python",
   "name": "python3"
  },
  "language_info": {
   "codemirror_mode": {
    "name": "ipython",
    "version": 3
   },
   "file_extension": ".py",
   "mimetype": "text/x-python",
   "name": "python",
   "nbconvert_exporter": "python",
   "pygments_lexer": "ipython3",
   "version": "3.10.7"
  }
 },
 "nbformat": 4,
 "nbformat_minor": 5
}
